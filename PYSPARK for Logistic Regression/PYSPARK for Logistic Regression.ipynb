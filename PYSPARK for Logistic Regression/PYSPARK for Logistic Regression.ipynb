{
 "cells": [
  {
   "cell_type": "code",
   "execution_count": 2,
   "id": "2b62be52-594f-400d-9523-b83b15c63989",
   "metadata": {},
   "outputs": [
    {
     "name": "stdout",
     "output_type": "stream",
     "text": [
      "\u001b[34m$RECYCLE.BIN\u001b[m\u001b[m\n",
      "Cover Letter and Classes Schedule.pdf\n",
      "Cover Letter.pdf\n",
      "Exam1_AMohd.docx\n",
      "RafayIBDDS.ipynb\n",
      "Student-Employment-Application-Feb-2021.pdf\n",
      "Texas DPS - Schedule Appointment.pdf\n",
      "Thumbs.db\n",
      "View My Classes.pdf\n",
      "Ziya.ipynb\n",
      "desktop.ini\n",
      "weatherAUS.csv\n",
      "~$actice Writing.docx\n",
      "~$hd abdul rafay.docx\n"
     ]
    }
   ],
   "source": [
    "import os\n",
    "os.environ[\"JAVA_HOME\"] = \"/usr/lib/jvm/java-8-openjdk-amd64\"\n",
    "os.environ[\"SPARK_HOME\"] = \"/content/spark-3.1.1-bin-hadoop3.2\"\n",
    "\n",
    "!ls"
   ]
  },
  {
   "cell_type": "markdown",
   "id": "f6e58d2b-78b0-41a7-8622-8b389f7b28cb",
   "metadata": {},
   "source": [
    "<span style=\"font-size: 36px;color: teal; font-family: TimesNewRoman;\">Creating a Spark Session<span>"
   ]
  },
  {
   "cell_type": "code",
   "execution_count": 42,
   "id": "55e6a6f1-6675-4436-9709-01da8e69118e",
   "metadata": {},
   "outputs": [
    {
     "data": {
      "text/html": [
       "\n",
       "            <div>\n",
       "                <p><b>SparkSession - in-memory</b></p>\n",
       "                \n",
       "        <div>\n",
       "            <p><b>SparkContext</b></p>\n",
       "\n",
       "            <p><a href=\"http://rafays-air.home:4040\">Spark UI</a></p>\n",
       "\n",
       "            <dl>\n",
       "              <dt>Version</dt>\n",
       "                <dd><code>v3.5.1</code></dd>\n",
       "              <dt>Master</dt>\n",
       "                <dd><code>local[*]</code></dd>\n",
       "              <dt>AppName</dt>\n",
       "                <dd><code>Assignment</code></dd>\n",
       "            </dl>\n",
       "        </div>\n",
       "        \n",
       "            </div>\n",
       "        "
      ],
      "text/plain": [
       "<pyspark.sql.session.SparkSession at 0x111c0c0d0>"
      ]
     },
     "execution_count": 42,
     "metadata": {},
     "output_type": "execute_result"
    }
   ],
   "source": [
    "import findspark\n",
    "findspark.init()\n",
    "from pyspark.sql import SparkSession\n",
    "spark = SparkSession.builder.appName(\"Assignment\").getOrCreate()\n",
    "# spark.conf.set(\"spark.sql.repl.eagerEval.enabled\", True) # Property used to format output tables better\n",
    "spark"
   ]
  },
  {
   "cell_type": "markdown",
   "id": "3759c120-530d-4971-8979-1578c52dbd75",
   "metadata": {},
   "source": [
    "<span style=\"font-size: 36px;color: teal; font-family: TimesNewRoman;\">Loading a Dataset<span>"
   ]
  },
  {
   "cell_type": "code",
   "execution_count": 43,
   "id": "5547ad4f-b2b9-4d9e-960d-afa50463bc89",
   "metadata": {},
   "outputs": [
    {
     "name": "stdout",
     "output_type": "stream",
     "text": [
      "+------------------------------------------------------------------------------------------------------------------------------------------------------------------------------------------------------------------------------------------------------+\n",
      "|Date,Location,MinTemp,MaxTemp,Rainfall,Evaporation,Sunshine,WindGustDir,WindGustSpeed,WindDir9am,WindDir3pm,WindSpeed9am,WindSpeed3pm,Humidity9am,Humidity3pm,Pressure9am,Pressure3pm,Cloud9am,Cloud3pm,Temp9am,Temp3pm,RainToday,RISK_MM,RainTomorrow|\n",
      "+------------------------------------------------------------------------------------------------------------------------------------------------------------------------------------------------------------------------------------------------------+\n",
      "|                                                                                                                                                                                                                                  2008-12-01,Albury...|\n",
      "|                                                                                                                                                                                                                                  2008-12-02,Albury...|\n",
      "|                                                                                                                                                                                                                                  2008-12-03,Albury...|\n",
      "|                                                                                                                                                                                                                                  2008-12-04,Albury...|\n",
      "|                                                                                                                                                                                                                                  2008-12-05,Albury...|\n",
      "|                                                                                                                                                                                                                                  2008-12-06,Albury...|\n",
      "|                                                                                                                                                                                                                                  2008-12-07,Albury...|\n",
      "|                                                                                                                                                                                                                                  2008-12-08,Albury...|\n",
      "|                                                                                                                                                                                                                                  2008-12-09,Albury...|\n",
      "|                                                                                                                                                                                                                                  2008-12-10,Albury...|\n",
      "|                                                                                                                                                                                                                                  2008-12-11,Albury...|\n",
      "|                                                                                                                                                                                                                                  2008-12-12,Albury...|\n",
      "|                                                                                                                                                                                                                                  2008-12-13,Albury...|\n",
      "|                                                                                                                                                                                                                                  2008-12-14,Albury...|\n",
      "|                                                                                                                                                                                                                                  2008-12-16,Albury...|\n",
      "|                                                                                                                                                                                                                                  2008-12-17,Albury...|\n",
      "|                                                                                                                                                                                                                                  2008-12-18,Albury...|\n",
      "|                                                                                                                                                                                                                                  2008-12-19,Albury...|\n",
      "|                                                                                                                                                                                                                                  2008-12-20,Albury...|\n",
      "|                                                                                                                                                                                                                                  2008-12-21,Albury...|\n",
      "+------------------------------------------------------------------------------------------------------------------------------------------------------------------------------------------------------------------------------------------------------+\n",
      "only showing top 20 rows\n",
      "\n"
     ]
    }
   ],
   "source": [
    "# Load data from csv to a dataframe.\n",
    "# header=True means the first row is a header\n",
    "# sep=';' means the column are seperated using ''\n",
    "df_spark = spark.read.csv('weatherAUS.csv', header=True, sep=\";\")\n",
    "df_spark.show()"
   ]
  },
  {
   "cell_type": "code",
   "execution_count": 44,
   "id": "1c662ead-9cb9-4d29-8f6d-b4f21c2b253e",
   "metadata": {},
   "outputs": [
    {
     "name": "stdout",
     "output_type": "stream",
     "text": [
      "+----------+--------+-------+-------+--------+-----------+--------+-----------+-------------+----------+----------+------------+------------+-----------+-----------+-----------+-----------+--------+--------+-------+-------+---------+-------+------------+\n",
      "|      Date|Location|MinTemp|MaxTemp|Rainfall|Evaporation|Sunshine|WindGustDir|WindGustSpeed|WindDir9am|WindDir3pm|WindSpeed9am|WindSpeed3pm|Humidity9am|Humidity3pm|Pressure9am|Pressure3pm|Cloud9am|Cloud3pm|Temp9am|Temp3pm|RainToday|RISK_MM|RainTomorrow|\n",
      "+----------+--------+-------+-------+--------+-----------+--------+-----------+-------------+----------+----------+------------+------------+-----------+-----------+-----------+-----------+--------+--------+-------+-------+---------+-------+------------+\n",
      "|2008-12-01|  Albury|   13.4|   22.9|     0.6|         NA|      NA|          W|           44|         W|       WNW|          20|          24|         71|         22|     1007.7|     1007.1|       8|      NA|   16.9|   21.8|       No|    0.0|          No|\n",
      "|2008-12-02|  Albury|    7.4|   25.1|       0|         NA|      NA|        WNW|           44|       NNW|       WSW|           4|          22|         44|         25|     1010.6|     1007.8|      NA|      NA|   17.2|   24.3|       No|    0.0|          No|\n",
      "|2008-12-03|  Albury|   12.9|   25.7|       0|         NA|      NA|        WSW|           46|         W|       WSW|          19|          26|         38|         30|     1007.6|     1008.7|      NA|       2|     21|   23.2|       No|    0.0|          No|\n",
      "|2008-12-04|  Albury|    9.2|     28|       0|         NA|      NA|         NE|           24|        SE|         E|          11|           9|         45|         16|     1017.6|     1012.8|      NA|      NA|   18.1|   26.5|       No|    1.0|          No|\n",
      "|2008-12-05|  Albury|   17.5|   32.3|       1|         NA|      NA|          W|           41|       ENE|        NW|           7|          20|         82|         33|     1010.8|       1006|       7|       8|   17.8|   29.7|       No|    0.2|          No|\n",
      "|2008-12-06|  Albury|   14.6|   29.7|     0.2|         NA|      NA|        WNW|           56|         W|         W|          19|          24|         55|         23|     1009.2|     1005.4|      NA|      NA|   20.6|   28.9|       No|    0.0|          No|\n",
      "|2008-12-07|  Albury|   14.3|     25|       0|         NA|      NA|          W|           50|        SW|         W|          20|          24|         49|         19|     1009.6|     1008.2|       1|      NA|   18.1|   24.6|       No|    0.0|          No|\n",
      "|2008-12-08|  Albury|    7.7|   26.7|       0|         NA|      NA|          W|           35|       SSE|         W|           6|          17|         48|         19|     1013.4|     1010.1|      NA|      NA|   16.3|   25.5|       No|    0.0|          No|\n",
      "|2008-12-09|  Albury|    9.7|   31.9|       0|         NA|      NA|        NNW|           80|        SE|        NW|           7|          28|         42|          9|     1008.9|     1003.6|      NA|      NA|   18.3|   30.2|       No|    1.4|         Yes|\n",
      "|2008-12-10|  Albury|   13.1|   30.1|     1.4|         NA|      NA|          W|           28|         S|       SSE|          15|          11|         58|         27|       1007|     1005.7|      NA|      NA|   20.1|   28.2|      Yes|    0.0|          No|\n",
      "|2008-12-11|  Albury|   13.4|   30.4|       0|         NA|      NA|          N|           30|       SSE|       ESE|          17|           6|         48|         22|     1011.8|     1008.7|      NA|      NA|   20.4|   28.8|       No|    2.2|         Yes|\n",
      "|2008-12-12|  Albury|   15.9|   21.7|     2.2|         NA|      NA|        NNE|           31|        NE|       ENE|          15|          13|         89|         91|     1010.5|     1004.2|       8|       8|   15.9|     17|      Yes|   15.6|         Yes|\n",
      "|2008-12-13|  Albury|   15.9|   18.6|    15.6|         NA|      NA|          W|           61|       NNW|       NNW|          28|          28|         76|         93|      994.3|        993|       8|       8|   17.4|   15.8|      Yes|    3.6|         Yes|\n",
      "|2008-12-14|  Albury|   12.6|     21|     3.6|         NA|      NA|         SW|           44|         W|       SSW|          24|          20|         65|         43|     1001.2|     1001.8|      NA|       7|   15.8|   19.8|      Yes|    0.0|          No|\n",
      "|2008-12-16|  Albury|    9.8|   27.7|      NA|         NA|      NA|        WNW|           50|        NA|       WNW|          NA|          22|         50|         28|     1013.4|     1010.3|       0|      NA|   17.3|   26.2|       NA|    0.0|          No|\n",
      "|2008-12-17|  Albury|   14.1|   20.9|       0|         NA|      NA|        ENE|           22|       SSW|         E|          11|           9|         69|         82|     1012.2|     1010.4|       8|       1|   17.2|   18.1|       No|   16.8|         Yes|\n",
      "|2008-12-18|  Albury|   13.5|   22.9|    16.8|         NA|      NA|          W|           63|         N|       WNW|           6|          20|         80|         65|     1005.8|     1002.2|       8|       1|     18|   21.5|      Yes|   10.6|         Yes|\n",
      "|2008-12-19|  Albury|   11.2|   22.5|    10.6|         NA|      NA|        SSE|           43|       WSW|        SW|          24|          17|         47|         32|     1009.4|     1009.7|      NA|       2|   15.5|     21|      Yes|    0.0|          No|\n",
      "|2008-12-20|  Albury|    9.8|   25.6|       0|         NA|      NA|        SSE|           26|        SE|       NNW|          17|           6|         45|         26|     1019.2|     1017.1|      NA|      NA|   15.8|   23.2|       No|    0.0|          No|\n",
      "|2008-12-21|  Albury|   11.5|   29.3|       0|         NA|      NA|          S|           24|        SE|        SE|           9|           9|         56|         28|     1019.3|     1014.8|      NA|      NA|   19.1|   27.3|       No|    0.0|          No|\n",
      "+----------+--------+-------+-------+--------+-----------+--------+-----------+-------------+----------+----------+------------+------------+-----------+-----------+-----------+-----------+--------+--------+-------+-------+---------+-------+------------+\n",
      "only showing top 20 rows\n",
      "\n"
     ]
    }
   ],
   "source": [
    "df_pyspark = spark.read.csv('weatherAUS.csv', header = True,  inferSchema = True)\n",
    "df_pyspark.show()"
   ]
  },
  {
   "cell_type": "code",
   "execution_count": 45,
   "id": "c0434e82-4864-4da7-a104-48123a8fc2ae",
   "metadata": {},
   "outputs": [
    {
     "data": {
      "text/plain": [
       "pyspark.sql.dataframe.DataFrame"
      ]
     },
     "execution_count": 45,
     "metadata": {},
     "output_type": "execute_result"
    }
   ],
   "source": [
    "type(df_pyspark)"
   ]
  },
  {
   "cell_type": "code",
   "execution_count": 46,
   "id": "b12c7df7-f083-43dd-b95d-df48edd41ad2",
   "metadata": {},
   "outputs": [
    {
     "name": "stdout",
     "output_type": "stream",
     "text": [
      "root\n",
      " |-- Date: date (nullable = true)\n",
      " |-- Location: string (nullable = true)\n",
      " |-- MinTemp: string (nullable = true)\n",
      " |-- MaxTemp: string (nullable = true)\n",
      " |-- Rainfall: string (nullable = true)\n",
      " |-- Evaporation: string (nullable = true)\n",
      " |-- Sunshine: string (nullable = true)\n",
      " |-- WindGustDir: string (nullable = true)\n",
      " |-- WindGustSpeed: string (nullable = true)\n",
      " |-- WindDir9am: string (nullable = true)\n",
      " |-- WindDir3pm: string (nullable = true)\n",
      " |-- WindSpeed9am: string (nullable = true)\n",
      " |-- WindSpeed3pm: string (nullable = true)\n",
      " |-- Humidity9am: string (nullable = true)\n",
      " |-- Humidity3pm: string (nullable = true)\n",
      " |-- Pressure9am: string (nullable = true)\n",
      " |-- Pressure3pm: string (nullable = true)\n",
      " |-- Cloud9am: string (nullable = true)\n",
      " |-- Cloud3pm: string (nullable = true)\n",
      " |-- Temp9am: string (nullable = true)\n",
      " |-- Temp3pm: string (nullable = true)\n",
      " |-- RainToday: string (nullable = true)\n",
      " |-- RISK_MM: double (nullable = true)\n",
      " |-- RainTomorrow: string (nullable = true)\n",
      "\n"
     ]
    }
   ],
   "source": [
    "df_pyspark.printSchema()"
   ]
  },
  {
   "cell_type": "code",
   "execution_count": 47,
   "id": "3185ca6d-7ed7-4f3f-9ae1-e7b61055b047",
   "metadata": {},
   "outputs": [
    {
     "data": {
      "text/plain": [
       "Row(Date=datetime.date(2008, 12, 1), Location='Albury', MinTemp='13.4', MaxTemp='22.9', Rainfall='0.6', Evaporation='NA', Sunshine='NA', WindGustDir='W', WindGustSpeed='44', WindDir9am='W', WindDir3pm='WNW', WindSpeed9am='20', WindSpeed3pm='24', Humidity9am='71', Humidity3pm='22', Pressure9am='1007.7', Pressure3pm='1007.1', Cloud9am='8', Cloud3pm='NA', Temp9am='16.9', Temp3pm='21.8', RainToday='No', RISK_MM=0.0, RainTomorrow='No')"
      ]
     },
     "execution_count": 47,
     "metadata": {},
     "output_type": "execute_result"
    }
   ],
   "source": [
    "df_pyspark.head()"
   ]
  },
  {
   "cell_type": "code",
   "execution_count": 48,
   "id": "93f04604-ada6-40be-99a9-8bcc6892b33c",
   "metadata": {},
   "outputs": [
    {
     "name": "stderr",
     "output_type": "stream",
     "text": [
      "[Stage 322:==============>                                          (1 + 3) / 4]\r"
     ]
    },
    {
     "name": "stdout",
     "output_type": "stream",
     "text": [
      "+-------+--------+------------------+------------------+------------------+-----------------+------------------+-----------+------------------+----------+----------+-----------------+-----------------+----------------+------------------+-----------------+------------------+-----------------+------------------+-----------------+-----------------+---------+-----------------+------------+\n",
      "|summary|Location|           MinTemp|           MaxTemp|          Rainfall|      Evaporation|          Sunshine|WindGustDir|     WindGustSpeed|WindDir9am|WindDir3pm|     WindSpeed9am|     WindSpeed3pm|     Humidity9am|       Humidity3pm|      Pressure9am|       Pressure3pm|         Cloud9am|          Cloud3pm|          Temp9am|          Temp3pm|RainToday|          RISK_MM|RainTomorrow|\n",
      "+-------+--------+------------------+------------------+------------------+-----------------+------------------+-----------+------------------+----------+----------+-----------------+-----------------+----------------+------------------+-----------------+------------------+-----------------+------------------+-----------------+-----------------+---------+-----------------+------------+\n",
      "|  count|  142193|            142193|            142193|            142193|           142193|            142193|     142193|            142193|    142193|    142193|           142193|           142193|          142193|            142193|           142193|            142193|           142193|            142193|           142193|           142193|   142193|           142193|      142193|\n",
      "|   mean|    NULL|12.186399728729313|23.226784191272507|2.3499740743107247|5.469824216349106| 7.624853113193661|       NULL| 39.98429165757619|      NULL|      NULL|  14.001988000994|18.63757586179718|68.8438103105705|51.482606091656265|1017.653758415961|1015.2582035378849|4.437189391885787| 4.503166899728551|16.98750858170126|21.68723497314784|     NULL|2.360681608799193|        NULL|\n",
      "| stddev|    NULL|  6.40328267467134| 7.117618141018133|  8.46517291761648|4.188536508895167|3.7815249942144518|       NULL|13.588800765487743|      NULL|      NULL|8.893337098234499|8.803345036235564|19.0512925353362| 20.79777184369884|7.105475711520833| 7.036676783493497|2.887015525733594|2.7206325304036603|6.492838325478886|6.937593868533727|     NULL|8.477969069227715|        NULL|\n",
      "|    min|Adelaide|              -0.1|              -0.1|                 0|                0|                 0|          E|               100|         E|         E|                0|                0|               0|                 0|           1000.1|            1000.1|                0|                 0|             -0.1|             -0.1|       NA|              0.0|          No|\n",
      "|    max| Woomera|                NA|                NA|                NA|               NA|                NA|        WSW|                NA|       WSW|       WSW|               NA|               NA|              NA|                NA|               NA|                NA|               NA|                NA|               NA|               NA|      Yes|            371.0|         Yes|\n",
      "+-------+--------+------------------+------------------+------------------+-----------------+------------------+-----------+------------------+----------+----------+-----------------+-----------------+----------------+------------------+-----------------+------------------+-----------------+------------------+-----------------+-----------------+---------+-----------------+------------+\n",
      "\n"
     ]
    },
    {
     "name": "stderr",
     "output_type": "stream",
     "text": [
      "                                                                                \r"
     ]
    }
   ],
   "source": [
    "df_pyspark.describe().show()"
   ]
  },
  {
   "cell_type": "markdown",
   "id": "88174404-f8bc-422f-8bd3-3c6fe2549741",
   "metadata": {},
   "source": [
    "<span style=\"font-size: 36px;color: teal; font-family: TimesNewRoman;\">Question 1:\tExplore the dataset to find what are the categorical variables in the dataset. List categorical variable names<span>"
   ]
  },
  {
   "cell_type": "code",
   "execution_count": 49,
   "id": "a1af9a37-9495-4b07-95f5-ded0fd93da2e",
   "metadata": {},
   "outputs": [
    {
     "name": "stdout",
     "output_type": "stream",
     "text": [
      "Categorical variable names:\n",
      "['Location', 'MinTemp', 'MaxTemp', 'Rainfall', 'Evaporation', 'Sunshine', 'WindGustDir', 'WindGustSpeed', 'WindDir9am', 'WindDir3pm', 'WindSpeed9am', 'WindSpeed3pm', 'Humidity9am', 'Humidity3pm', 'Pressure9am', 'Pressure3pm', 'Cloud9am', 'Cloud3pm', 'Temp9am', 'Temp3pm', 'RainToday', 'RainTomorrow']\n"
     ]
    }
   ],
   "source": [
    "# List categorical variable names (string columns)\n",
    "categorical_columns = [col for col, dtype in df_pyspark.dtypes if dtype == \"string\"]\n",
    "\n",
    "print(\"Categorical variable names:\")\n",
    "print(categorical_columns)"
   ]
  },
  {
   "cell_type": "markdown",
   "id": "8898d083-a7b0-4a23-91ab-103b8ffd19e8",
   "metadata": {},
   "source": [
    "<span style=\"font-size: 36px;color: teal; font-family: TimesNewRoman;\">Question 2:\tExplore how many categorical variables have null values. <span>"
   ]
  },
  {
   "cell_type": "code",
   "execution_count": 50,
   "id": "9a0e4398-3287-4ffe-abbb-ef955631dad3",
   "metadata": {},
   "outputs": [
    {
     "name": "stdout",
     "output_type": "stream",
     "text": [
      "Column 'Location' has 0 rows with NA values.\n",
      "Column 'MinTemp' has 637 rows with NA values.\n",
      "Column 'MaxTemp' has 322 rows with NA values.\n",
      "Column 'Rainfall' has 1406 rows with NA values.\n",
      "Column 'Evaporation' has 60843 rows with NA values.\n",
      "Column 'Sunshine' has 67816 rows with NA values.\n",
      "Column 'WindGustDir' has 9330 rows with NA values.\n",
      "Column 'WindGustSpeed' has 9270 rows with NA values.\n",
      "Column 'WindDir9am' has 10013 rows with NA values.\n",
      "Column 'WindDir3pm' has 3778 rows with NA values.\n",
      "Column 'WindSpeed9am' has 1348 rows with NA values.\n",
      "Column 'WindSpeed3pm' has 2630 rows with NA values.\n",
      "Column 'Humidity9am' has 1774 rows with NA values.\n",
      "Column 'Humidity3pm' has 3610 rows with NA values.\n",
      "Column 'Pressure9am' has 14014 rows with NA values.\n",
      "Column 'Pressure3pm' has 13981 rows with NA values.\n",
      "Column 'Cloud9am' has 53657 rows with NA values.\n",
      "Column 'Cloud3pm' has 57094 rows with NA values.\n",
      "Column 'Temp9am' has 904 rows with NA values.\n",
      "Column 'Temp3pm' has 2726 rows with NA values.\n",
      "Column 'RainToday' has 1406 rows with NA values.\n",
      "Column 'RainTomorrow' has 0 rows with NA values.\n"
     ]
    }
   ],
   "source": [
    "from pyspark.sql.functions import col\n",
    "# Define the list of string columns\n",
    "string_columns = [col_name for col_name, data_type in df_pyspark.dtypes if data_type == \"string\"]\n",
    "\n",
    "# Iterate over each string column and count rows with NA values\n",
    "na_counts = {}\n",
    "for col_name in string_columns:\n",
    "    na_count = df_pyspark.filter((col(col_name).isNull()) | (col(col_name) == \"NA\")).count()\n",
    "    na_counts[col_name] = na_count\n",
    "\n",
    "# Print the counts of rows with NA values for each string column\n",
    "for col_name, count in na_counts.items():\n",
    "    print(f\"Column '{col_name}' has {count} rows with NA values.\")"
   ]
  },
  {
   "cell_type": "markdown",
   "id": "aa881412-d54d-4307-b138-8a20efc7fc7c",
   "metadata": {},
   "source": [
    "<span style=\"font-size: 36px;color: teal; font-family: TimesNewRoman;\">Question 3: Get the frequency count of each categorical variable. For instance, how many discrete values in each categorical variable and how many datapoints from each distinct value.<span>"
   ]
  },
  {
   "cell_type": "code",
   "execution_count": 51,
   "id": "d4842856-f6c0-4a26-997f-14ee2f99961c",
   "metadata": {},
   "outputs": [
    {
     "name": "stdout",
     "output_type": "stream",
     "text": [
      "Frequency count of categories in column 'Date':\n",
      "+----------+-----+\n",
      "|Date      |count|\n",
      "+----------+-----+\n",
      "|2009-07-25|45   |\n",
      "|2009-11-22|46   |\n",
      "|2010-08-11|45   |\n",
      "|2012-04-17|46   |\n",
      "|2012-10-06|41   |\n",
      "|2013-01-22|46   |\n",
      "|2013-03-26|49   |\n",
      "|2013-05-21|47   |\n",
      "|2013-09-09|48   |\n",
      "|2014-09-26|47   |\n",
      "|2014-11-12|48   |\n",
      "|2015-03-09|48   |\n",
      "|2015-05-19|45   |\n",
      "|2016-03-01|48   |\n",
      "|2009-06-28|46   |\n",
      "|2009-08-09|46   |\n",
      "|2009-09-27|45   |\n",
      "|2009-10-19|46   |\n",
      "|2010-09-24|46   |\n",
      "|2011-01-29|44   |\n",
      "+----------+-----+\n",
      "only showing top 20 rows\n",
      "\n",
      "Frequency count of categories in column 'Location':\n",
      "+-------------+-----+\n",
      "|Location     |count|\n",
      "+-------------+-----+\n",
      "|NorfolkIsland|2964 |\n",
      "|Cobar        |2988 |\n",
      "|SydneyAirport|3005 |\n",
      "|Wollongong   |2983 |\n",
      "|Williamtown  |2553 |\n",
      "|Moree        |2854 |\n",
      "|Sydney       |3337 |\n",
      "|BadgerysCreek|2928 |\n",
      "|Albury       |3011 |\n",
      "|WaggaWagga   |2976 |\n",
      "|CoffsHarbour |2953 |\n",
      "|Penrith      |2964 |\n",
      "|NorahHead    |2929 |\n",
      "|Newcastle    |2955 |\n",
      "|Richmond     |2951 |\n",
      "|Bendigo      |3034 |\n",
      "|Canberra     |3418 |\n",
      "|Mildura      |3007 |\n",
      "|Portland     |2996 |\n",
      "|Brisbane     |3161 |\n",
      "+-------------+-----+\n",
      "only showing top 20 rows\n",
      "\n",
      "Frequency count of categories in column 'MinTemp':\n",
      "+-------+-----+\n",
      "|MinTemp|count|\n",
      "+-------+-----+\n",
      "|10.7   |805  |\n",
      "|8.5    |833  |\n",
      "|20.5   |471  |\n",
      "|-1.2   |89   |\n",
      "|8.2    |792  |\n",
      "|2.6    |324  |\n",
      "|7      |743  |\n",
      "|7.3    |739  |\n",
      "|26.5   |74   |\n",
      "|3.1    |349  |\n",
      "|12.8   |773  |\n",
      "|14.2   |793  |\n",
      "|16.6   |659  |\n",
      "|29.4   |5    |\n",
      "|17.1   |618  |\n",
      "|-2.4   |60   |\n",
      "|26.7   |67   |\n",
      "|15     |706  |\n",
      "|8.3    |772  |\n",
      "|-1     |120  |\n",
      "+-------+-----+\n",
      "only showing top 20 rows\n",
      "\n",
      "Frequency count of categories in column 'MaxTemp':\n",
      "+-------+-----+\n",
      "|MaxTemp|count|\n",
      "+-------+-----+\n",
      "|10.7   |123  |\n",
      "|8.5    |26   |\n",
      "|38.3   |84   |\n",
      "|20.5   |745  |\n",
      "|34.4   |238  |\n",
      "|45.4   |3    |\n",
      "|8.2    |23   |\n",
      "|38.5   |98   |\n",
      "|26.5   |599  |\n",
      "|16.6   |632  |\n",
      "|12.8   |321  |\n",
      "|14.2   |507  |\n",
      "|29.4   |486  |\n",
      "|26.7   |587  |\n",
      "|30.1   |441  |\n",
      "|17.1   |672  |\n",
      "|36.1   |169  |\n",
      "|15     |553  |\n",
      "|8.3    |23   |\n",
      "|40.1   |73   |\n",
      "+-------+-----+\n",
      "only showing top 20 rows\n",
      "\n",
      "Frequency count of categories in column 'Rainfall':\n",
      "+--------+-----+\n",
      "|Rainfall|count|\n",
      "+--------+-----+\n",
      "|8.5     |7    |\n",
      "|10.7    |1    |\n",
      "|34.4    |14   |\n",
      "|45.4    |9    |\n",
      "|8.2     |240  |\n",
      "|2.6     |831  |\n",
      "|63.2    |4    |\n",
      "|74.4    |1    |\n",
      "|7       |294  |\n",
      "|51      |7    |\n",
      "|26.5    |1    |\n",
      "|3.1     |6    |\n",
      "|104.8   |2    |\n",
      "|74.2    |2    |\n",
      "|14.2    |105  |\n",
      "|12.8    |124  |\n",
      "|16.6    |83   |\n",
      "|29.4    |27   |\n",
      "|80.4    |3    |\n",
      "|58.2    |4    |\n",
      "+--------+-----+\n",
      "only showing top 20 rows\n",
      "\n",
      "Frequency count of categories in column 'Evaporation':\n",
      "+-----------+-----+\n",
      "|Evaporation|count|\n",
      "+-----------+-----+\n",
      "|34.4       |3    |\n",
      "|20.5       |1    |\n",
      "|8.2        |632  |\n",
      "|2.6        |1975 |\n",
      "|7          |1428 |\n",
      "|7.3        |8    |\n",
      "|3.1        |32   |\n",
      "|12.8       |192  |\n",
      "|14.2       |159  |\n",
      "|16.6       |33   |\n",
      "|29.4       |3    |\n",
      "|17.1       |1    |\n",
      "|15         |106  |\n",
      "|54         |2    |\n",
      "|8.3        |7    |\n",
      "|22.4       |11   |\n",
      "|4.2        |1480 |\n",
      "|56.2       |1    |\n",
      "|11         |391  |\n",
      "|9.2        |621  |\n",
      "+-----------+-----+\n",
      "only showing top 20 rows\n",
      "\n",
      "Frequency count of categories in column 'Sunshine':\n",
      "+--------+-----+\n",
      "|Sunshine|count|\n",
      "+--------+-----+\n",
      "|10.7    |1087 |\n",
      "|8.5     |649  |\n",
      "|8.2     |679  |\n",
      "|2.6     |295  |\n",
      "|7       |516  |\n",
      "|7.3     |565  |\n",
      "|3.1     |279  |\n",
      "|12.8    |470  |\n",
      "|8.3     |638  |\n",
      "|4.2     |362  |\n",
      "|11      |1078 |\n",
      "|9.2     |909  |\n",
      "|12.4    |477  |\n",
      "|0.3     |422  |\n",
      "|3       |380  |\n",
      "|6.1     |523  |\n",
      "|8       |651  |\n",
      "|4.4     |375  |\n",
      "|2.7     |343  |\n",
      "|1.7     |296  |\n",
      "+--------+-----+\n",
      "only showing top 20 rows\n",
      "\n",
      "Frequency count of categories in column 'WindGustDir':\n",
      "+-----------+-----+\n",
      "|WindGustDir|count|\n",
      "+-----------+-----+\n",
      "|SSE        |8993 |\n",
      "|SW         |8797 |\n",
      "|NW         |8003 |\n",
      "|NA         |9330 |\n",
      "|E          |9071 |\n",
      "|WSW        |8901 |\n",
      "|ENE        |7992 |\n",
      "|NE         |7060 |\n",
      "|NNW        |6561 |\n",
      "|N          |9033 |\n",
      "|SSW        |8610 |\n",
      "|W          |9780 |\n",
      "|S          |8949 |\n",
      "|SE         |9309 |\n",
      "|WNW        |8066 |\n",
      "|NNE        |6433 |\n",
      "|ESE        |7305 |\n",
      "+-----------+-----+\n",
      "\n",
      "Frequency count of categories in column 'WindGustSpeed':\n",
      "+-------------+-----+\n",
      "|WindGustSpeed|count|\n",
      "+-------------+-----+\n",
      "|7            |18   |\n",
      "|54           |3404 |\n",
      "|15           |829  |\n",
      "|11           |190  |\n",
      "|69           |860  |\n",
      "|87           |139  |\n",
      "|30           |6943 |\n",
      "|113          |8    |\n",
      "|59           |1925 |\n",
      "|28           |6382 |\n",
      "|22           |2787 |\n",
      "|85           |152  |\n",
      "|35           |9070 |\n",
      "|52           |3747 |\n",
      "|NA           |9270 |\n",
      "|98           |53   |\n",
      "|107          |15   |\n",
      "|96           |57   |\n",
      "|43           |6513 |\n",
      "|31           |8310 |\n",
      "+-------------+-----+\n",
      "only showing top 20 rows\n",
      "\n",
      "Frequency count of categories in column 'WindDir9am':\n",
      "+----------+-----+\n",
      "|WindDir9am|count|\n",
      "+----------+-----+\n",
      "|SSE       |8966 |\n",
      "|SW        |8237 |\n",
      "|NW        |8552 |\n",
      "|NA        |10013|\n",
      "|E         |9024 |\n",
      "|WSW       |6843 |\n",
      "|ENE       |7735 |\n",
      "|NE        |7527 |\n",
      "|NNW       |7840 |\n",
      "|N         |11393|\n",
      "|SSW       |7448 |\n",
      "|W         |8260 |\n",
      "|S         |8493 |\n",
      "|SE        |9162 |\n",
      "|WNW       |7194 |\n",
      "|NNE       |7948 |\n",
      "|ESE       |7558 |\n",
      "+----------+-----+\n",
      "\n",
      "Frequency count of categories in column 'WindDir3pm':\n",
      "+----------+-----+\n",
      "|WindDir3pm|count|\n",
      "+----------+-----+\n",
      "|SSE       |9142 |\n",
      "|NW        |8468 |\n",
      "|SW        |9182 |\n",
      "|NA        |3778 |\n",
      "|E         |8342 |\n",
      "|WSW       |9329 |\n",
      "|ENE       |7724 |\n",
      "|NE        |8164 |\n",
      "|NNW       |7733 |\n",
      "|N         |8667 |\n",
      "|SSW       |8010 |\n",
      "|W         |9911 |\n",
      "|S         |9598 |\n",
      "|SE        |10663|\n",
      "|WNW       |8656 |\n",
      "|NNE       |6444 |\n",
      "|ESE       |8382 |\n",
      "+----------+-----+\n",
      "\n",
      "Frequency count of categories in column 'WindSpeed9am':\n",
      "+------------+-----+\n",
      "|WindSpeed9am|count|\n",
      "+------------+-----+\n",
      "|7           |10587|\n",
      "|15          |10396|\n",
      "|54          |37   |\n",
      "|11          |11514|\n",
      "|69          |2    |\n",
      "|87          |2    |\n",
      "|30          |2255 |\n",
      "|59          |5    |\n",
      "|28          |3483 |\n",
      "|22          |5541 |\n",
      "|35          |941  |\n",
      "|52          |62   |\n",
      "|NA          |1348 |\n",
      "|0           |8612 |\n",
      "|43          |259  |\n",
      "|31          |1961 |\n",
      "|61          |11   |\n",
      "|17          |10599|\n",
      "|26          |3669 |\n",
      "|46          |166  |\n",
      "+------------+-----+\n",
      "only showing top 20 rows\n",
      "\n",
      "Frequency count of categories in column 'WindSpeed3pm':\n",
      "+------------+-----+\n",
      "|WindSpeed3pm|count|\n",
      "+------------+-----+\n",
      "|7           |5813 |\n",
      "|15          |11301|\n",
      "|54          |58   |\n",
      "|11          |9844 |\n",
      "|30          |4451 |\n",
      "|59          |20   |\n",
      "|22          |8410 |\n",
      "|28          |6395 |\n",
      "|35          |2100 |\n",
      "|52          |84   |\n",
      "|0           |1096 |\n",
      "|NA          |2630 |\n",
      "|43          |546  |\n",
      "|31          |3888 |\n",
      "|61          |18   |\n",
      "|17          |12306|\n",
      "|26          |6365 |\n",
      "|46          |281  |\n",
      "|78          |1    |\n",
      "|6           |3744 |\n",
      "+------------+-----+\n",
      "only showing top 20 rows\n",
      "\n",
      "Frequency count of categories in column 'Humidity9am':\n",
      "+-----------+-----+\n",
      "|Humidity9am|count|\n",
      "+-----------+-----+\n",
      "|51         |1611 |\n",
      "|7          |43   |\n",
      "|54         |1954 |\n",
      "|15         |158  |\n",
      "|11         |117  |\n",
      "|69         |2962 |\n",
      "|29         |390  |\n",
      "|42         |860  |\n",
      "|87         |2035 |\n",
      "|73         |2823 |\n",
      "|64         |2867 |\n",
      "|3          |10   |\n",
      "|30         |405  |\n",
      "|34         |529  |\n",
      "|59         |2412 |\n",
      "|8          |56   |\n",
      "|28         |389  |\n",
      "|22         |258  |\n",
      "|85         |2086 |\n",
      "|52         |1801 |\n",
      "+-----------+-----+\n",
      "only showing top 20 rows\n",
      "\n",
      "Frequency count of categories in column 'Humidity3pm':\n",
      "+-----------+-----+\n",
      "|Humidity3pm|count|\n",
      "+-----------+-----+\n",
      "|51         |2577 |\n",
      "|7          |302  |\n",
      "|15         |847  |\n",
      "|54         |2595 |\n",
      "|11         |567  |\n",
      "|69         |1887 |\n",
      "|29         |1476 |\n",
      "|42         |2121 |\n",
      "|73         |1393 |\n",
      "|87         |739  |\n",
      "|64         |2335 |\n",
      "|3          |63   |\n",
      "|30         |1572 |\n",
      "|34         |1733 |\n",
      "|59         |2639 |\n",
      "|8          |420  |\n",
      "|22         |1148 |\n",
      "|28         |1476 |\n",
      "|85         |683  |\n",
      "|16         |863  |\n",
      "+-----------+-----+\n",
      "only showing top 20 rows\n",
      "\n",
      "Frequency count of categories in column 'Pressure9am':\n",
      "+-----------+-----+\n",
      "|Pressure9am|count|\n",
      "+-----------+-----+\n",
      "|1022.6     |593  |\n",
      "|1031.6     |115  |\n",
      "|1014.5     |673  |\n",
      "|1017.2     |745  |\n",
      "|1004.4     |115  |\n",
      "|1038.3     |8    |\n",
      "|1022.1     |587  |\n",
      "|1039.1     |4    |\n",
      "|1005.8     |187  |\n",
      "|1001.4     |48   |\n",
      "|1012.5     |601  |\n",
      "|1008       |286  |\n",
      "|1016.3     |753  |\n",
      "|1010.4     |413  |\n",
      "|1018.9     |714  |\n",
      "|1004.6     |83   |\n",
      "|990.2      |2    |\n",
      "|1014.3     |589  |\n",
      "|1034.9     |42   |\n",
      "|1004.5     |103  |\n",
      "+-----------+-----+\n",
      "only showing top 20 rows\n",
      "\n",
      "Frequency count of categories in column 'Pressure3pm':\n",
      "+-----------+-----+\n",
      "|Pressure3pm|count|\n",
      "+-----------+-----+\n",
      "|1022.6     |435  |\n",
      "|1031.6     |48   |\n",
      "|1014.5     |710  |\n",
      "|1017.2     |708  |\n",
      "|1004.4     |197  |\n",
      "|993.9      |17   |\n",
      "|1022.1     |443  |\n",
      "|1005.8     |283  |\n",
      "|1001.4     |77   |\n",
      "|1010.4     |652  |\n",
      "|1018.9     |598  |\n",
      "|1008       |427  |\n",
      "|1016.3     |706  |\n",
      "|1012.5     |670  |\n",
      "|1004.6     |216  |\n",
      "|1014.3     |629  |\n",
      "|1034.9     |21   |\n",
      "|1004.5     |226  |\n",
      "|1008.8     |526  |\n",
      "|1003.5     |161  |\n",
      "+-----------+-----+\n",
      "only showing top 20 rows\n",
      "\n",
      "Frequency count of categories in column 'Cloud9am':\n",
      "+--------+-----+\n",
      "|Cloud9am|count|\n",
      "+--------+-----+\n",
      "|7       |19749|\n",
      "|3       |5854 |\n",
      "|8       |14389|\n",
      "|NA      |53657|\n",
      "|0       |8587 |\n",
      "|5       |5510 |\n",
      "|6       |8072 |\n",
      "|9       |2    |\n",
      "|1       |15558|\n",
      "|4       |4373 |\n",
      "|2       |6442 |\n",
      "+--------+-----+\n",
      "\n",
      "Frequency count of categories in column 'Cloud3pm':\n",
      "+--------+-----+\n",
      "|Cloud3pm|count|\n",
      "+--------+-----+\n",
      "|7       |18052|\n",
      "|3       |6836 |\n",
      "|8       |12407|\n",
      "|NA      |57094|\n",
      "|0       |4957 |\n",
      "|5       |6743 |\n",
      "|6       |8869 |\n",
      "|1       |14827|\n",
      "|4       |5254 |\n",
      "|2       |7153 |\n",
      "|9       |1    |\n",
      "+--------+-----+\n",
      "\n",
      "Frequency count of categories in column 'Temp9am':\n",
      "+-------+-----+\n",
      "|Temp9am|count|\n",
      "+-------+-----+\n",
      "|8.5    |420  |\n",
      "|10.7   |613  |\n",
      "|20.5   |699  |\n",
      "|34.4   |17   |\n",
      "|8.2    |360  |\n",
      "|2.6    |57   |\n",
      "|26.5   |350  |\n",
      "|7      |281  |\n",
      "|7.3    |267  |\n",
      "|3.1    |61   |\n",
      "|16.6   |855  |\n",
      "|12.8   |797  |\n",
      "|29.4   |224  |\n",
      "|14.2   |792  |\n",
      "|17.1   |771  |\n",
      "|26.7   |335  |\n",
      "|30.1   |175  |\n",
      "|15     |852  |\n",
      "|8.3    |442  |\n",
      "|22.4   |568  |\n",
      "+-------+-----+\n",
      "only showing top 20 rows\n",
      "\n",
      "Frequency count of categories in column 'Temp3pm':\n",
      "+-------+-----+\n",
      "|Temp3pm|count|\n",
      "+-------+-----+\n",
      "|10.7   |250  |\n",
      "|8.5    |69   |\n",
      "|34.4   |166  |\n",
      "|20.5   |752  |\n",
      "|38.3   |65   |\n",
      "|38.5   |63   |\n",
      "|8.2    |62   |\n",
      "|26.5   |550  |\n",
      "|7.3    |27   |\n",
      "|7      |30   |\n",
      "|29.4   |377  |\n",
      "|12.8   |453  |\n",
      "|14.2   |589  |\n",
      "|16.6   |751  |\n",
      "|36.1   |108  |\n",
      "|17.1   |792  |\n",
      "|30.1   |401  |\n",
      "|26.7   |506  |\n",
      "|46.7   |1    |\n",
      "|40.1   |33   |\n",
      "+-------+-----+\n",
      "only showing top 20 rows\n",
      "\n",
      "Frequency count of categories in column 'RainToday':\n",
      "+---------+------+\n",
      "|RainToday|count |\n",
      "+---------+------+\n",
      "|NA       |1406  |\n",
      "|No       |109332|\n",
      "|Yes      |31455 |\n",
      "+---------+------+\n",
      "\n",
      "Frequency count of categories in column 'RISK_MM':\n",
      "+-------+-----+\n",
      "|RISK_MM|count|\n",
      "+-------+-----+\n",
      "|13.4   |132  |\n",
      "|56.8   |6    |\n",
      "|76.4   |3    |\n",
      "|49.8   |9    |\n",
      "|69.8   |2    |\n",
      "|64.2   |4    |\n",
      "|15.4   |102  |\n",
      "|2.4    |844  |\n",
      "|8.0    |284  |\n",
      "|10.2   |166  |\n",
      "|83.6   |5    |\n",
      "|55.8   |7    |\n",
      "|70.0   |2    |\n",
      "|67.0   |5    |\n",
      "|15.7   |1    |\n",
      "|44.8   |7    |\n",
      "|0.0    |91077|\n",
      "|159.8  |1    |\n",
      "|113.4  |1    |\n",
      "|54.2   |5    |\n",
      "+-------+-----+\n",
      "only showing top 20 rows\n",
      "\n",
      "Frequency count of categories in column 'RainTomorrow':\n",
      "+------------+------+\n",
      "|RainTomorrow|count |\n",
      "+------------+------+\n",
      "|No          |110316|\n",
      "|Yes         |31877 |\n",
      "+------------+------+\n",
      "\n"
     ]
    }
   ],
   "source": [
    "\n",
    "# Iterate over each column in the DataFrame\n",
    "for col in df_pyspark.columns:\n",
    "    # Calculate the frequency count of categories in the column\n",
    "    freq_count = df_pyspark.groupBy(col).count()\n",
    "    \n",
    "    # Print the result\n",
    "    print(f\"Frequency count of categories in column '{col}':\")\n",
    "    freq_count.show(truncate=False)\n"
   ]
  },
  {
   "cell_type": "markdown",
   "id": "3ad05b3f-c65b-44c6-a1cb-1b22f5f97996",
   "metadata": {},
   "source": [
    "<span style=\"font-size: 36px;color: teal; font-family: TimesNewRoman;\">Question 4: Print the first five rows of the dataset.<span>"
   ]
  },
  {
   "cell_type": "code",
   "execution_count": 52,
   "id": "c7c40491-782e-434c-8b9c-8f65d4a0a85e",
   "metadata": {},
   "outputs": [
    {
     "name": "stdout",
     "output_type": "stream",
     "text": [
      "+----------+--------+-------+-------+--------+-----------+--------+-----------+-------------+----------+----------+------------+------------+-----------+-----------+-----------+-----------+--------+--------+-------+-------+---------+-------+------------+\n",
      "|      Date|Location|MinTemp|MaxTemp|Rainfall|Evaporation|Sunshine|WindGustDir|WindGustSpeed|WindDir9am|WindDir3pm|WindSpeed9am|WindSpeed3pm|Humidity9am|Humidity3pm|Pressure9am|Pressure3pm|Cloud9am|Cloud3pm|Temp9am|Temp3pm|RainToday|RISK_MM|RainTomorrow|\n",
      "+----------+--------+-------+-------+--------+-----------+--------+-----------+-------------+----------+----------+------------+------------+-----------+-----------+-----------+-----------+--------+--------+-------+-------+---------+-------+------------+\n",
      "|2008-12-01|  Albury|   13.4|   22.9|     0.6|         NA|      NA|          W|           44|         W|       WNW|          20|          24|         71|         22|     1007.7|     1007.1|       8|      NA|   16.9|   21.8|       No|    0.0|          No|\n",
      "|2008-12-02|  Albury|    7.4|   25.1|       0|         NA|      NA|        WNW|           44|       NNW|       WSW|           4|          22|         44|         25|     1010.6|     1007.8|      NA|      NA|   17.2|   24.3|       No|    0.0|          No|\n",
      "|2008-12-03|  Albury|   12.9|   25.7|       0|         NA|      NA|        WSW|           46|         W|       WSW|          19|          26|         38|         30|     1007.6|     1008.7|      NA|       2|     21|   23.2|       No|    0.0|          No|\n",
      "|2008-12-04|  Albury|    9.2|     28|       0|         NA|      NA|         NE|           24|        SE|         E|          11|           9|         45|         16|     1017.6|     1012.8|      NA|      NA|   18.1|   26.5|       No|    1.0|          No|\n",
      "|2008-12-05|  Albury|   17.5|   32.3|       1|         NA|      NA|          W|           41|       ENE|        NW|           7|          20|         82|         33|     1010.8|       1006|       7|       8|   17.8|   29.7|       No|    0.2|          No|\n",
      "+----------+--------+-------+-------+--------+-----------+--------+-----------+-------------+----------+----------+------------+------------+-----------+-----------+-----------+-----------+--------+--------+-------+-------+---------+-------+------------+\n",
      "only showing top 5 rows\n",
      "\n"
     ]
    }
   ],
   "source": [
    "df_pyspark.show(5)"
   ]
  },
  {
   "cell_type": "markdown",
   "id": "d69b994c-891b-4ba3-ac41-fe4e86e3ed85",
   "metadata": {},
   "source": [
    "<span style=\"font-size: 36px;color: teal; font-family: TimesNewRoman;\">Question 5: What are the available columns of the dataset?<span>"
   ]
  },
  {
   "cell_type": "code",
   "execution_count": 53,
   "id": "ee021445-7f3e-4f02-84e7-33f628445f6a",
   "metadata": {},
   "outputs": [
    {
     "data": {
      "text/plain": [
       "['Date',\n",
       " 'Location',\n",
       " 'MinTemp',\n",
       " 'MaxTemp',\n",
       " 'Rainfall',\n",
       " 'Evaporation',\n",
       " 'Sunshine',\n",
       " 'WindGustDir',\n",
       " 'WindGustSpeed',\n",
       " 'WindDir9am',\n",
       " 'WindDir3pm',\n",
       " 'WindSpeed9am',\n",
       " 'WindSpeed3pm',\n",
       " 'Humidity9am',\n",
       " 'Humidity3pm',\n",
       " 'Pressure9am',\n",
       " 'Pressure3pm',\n",
       " 'Cloud9am',\n",
       " 'Cloud3pm',\n",
       " 'Temp9am',\n",
       " 'Temp3pm',\n",
       " 'RainToday',\n",
       " 'RISK_MM',\n",
       " 'RainTomorrow']"
      ]
     },
     "execution_count": 53,
     "metadata": {},
     "output_type": "execute_result"
    }
   ],
   "source": [
    "df_pyspark.columns"
   ]
  },
  {
   "cell_type": "markdown",
   "id": "5219139d-74cb-42a0-b3d2-8162c564ef46",
   "metadata": {},
   "source": [
    "<span style=\"font-size: 36px;color: teal; font-family: TimesNewRoman;\">Question 6:\tDrop RISK_MM variable column.<span>"
   ]
  },
  {
   "cell_type": "code",
   "execution_count": 54,
   "id": "da2b4a5a-fbc6-4763-83cd-cb2281eb0e1b",
   "metadata": {},
   "outputs": [
    {
     "data": {
      "text/plain": [
       "['Date',\n",
       " 'Location',\n",
       " 'MinTemp',\n",
       " 'MaxTemp',\n",
       " 'Rainfall',\n",
       " 'Evaporation',\n",
       " 'Sunshine',\n",
       " 'WindGustDir',\n",
       " 'WindGustSpeed',\n",
       " 'WindDir9am',\n",
       " 'WindDir3pm',\n",
       " 'WindSpeed9am',\n",
       " 'WindSpeed3pm',\n",
       " 'Humidity9am',\n",
       " 'Humidity3pm',\n",
       " 'Pressure9am',\n",
       " 'Pressure3pm',\n",
       " 'Cloud9am',\n",
       " 'Cloud3pm',\n",
       " 'Temp9am',\n",
       " 'Temp3pm',\n",
       " 'RainToday',\n",
       " 'RainTomorrow']"
      ]
     },
     "execution_count": 54,
     "metadata": {},
     "output_type": "execute_result"
    }
   ],
   "source": [
    "new_df = df_pyspark.drop('RISK_MM')\n",
    "new_df.columns"
   ]
  },
  {
   "cell_type": "markdown",
   "id": "28401e13-2dc1-449a-a919-0802952b7647",
   "metadata": {},
   "source": [
    "<span style=\"font-size: 36px;color: teal; font-family: TimesNewRoman;\">Question 7:\tGet the summary of the dataset.<span>"
   ]
  },
  {
   "cell_type": "code",
   "execution_count": 55,
   "id": "1db6b1cc-d027-42f3-bcd9-acc24c8aa1e5",
   "metadata": {},
   "outputs": [
    {
     "name": "stderr",
     "output_type": "stream",
     "text": [
      "[Stage 464:==============>                                          (1 + 3) / 4]\r"
     ]
    },
    {
     "name": "stdout",
     "output_type": "stream",
     "text": [
      "+-------+--------+------------------+------------------+------------------+-----------------+------------------+-----------+------------------+----------+----------+-----------------+-----------------+----------------+------------------+-----------------+------------------+-----------------+------------------+-----------------+-----------------+---------+------------+\n",
      "|summary|Location|           MinTemp|           MaxTemp|          Rainfall|      Evaporation|          Sunshine|WindGustDir|     WindGustSpeed|WindDir9am|WindDir3pm|     WindSpeed9am|     WindSpeed3pm|     Humidity9am|       Humidity3pm|      Pressure9am|       Pressure3pm|         Cloud9am|          Cloud3pm|          Temp9am|          Temp3pm|RainToday|RainTomorrow|\n",
      "+-------+--------+------------------+------------------+------------------+-----------------+------------------+-----------+------------------+----------+----------+-----------------+-----------------+----------------+------------------+-----------------+------------------+-----------------+------------------+-----------------+-----------------+---------+------------+\n",
      "|  count|  142193|            142193|            142193|            142193|           142193|            142193|     142193|            142193|    142193|    142193|           142193|           142193|          142193|            142193|           142193|            142193|           142193|            142193|           142193|           142193|   142193|      142193|\n",
      "|   mean|    NULL|12.186399728729313|23.226784191272507|2.3499740743107247|5.469824216349106| 7.624853113193661|       NULL| 39.98429165757619|      NULL|      NULL|  14.001988000994|18.63757586179718|68.8438103105705|51.482606091656265|1017.653758415961|1015.2582035378849|4.437189391885787| 4.503166899728551|16.98750858170126|21.68723497314784|     NULL|        NULL|\n",
      "| stddev|    NULL|  6.40328267467134| 7.117618141018133|  8.46517291761648|4.188536508895167|3.7815249942144518|       NULL|13.588800765487743|      NULL|      NULL|8.893337098234499|8.803345036235564|19.0512925353362| 20.79777184369884|7.105475711520833| 7.036676783493497|2.887015525733594|2.7206325304036603|6.492838325478886|6.937593868533727|     NULL|        NULL|\n",
      "|    min|Adelaide|              -0.1|              -0.1|                 0|                0|                 0|          E|               100|         E|         E|                0|                0|               0|                 0|           1000.1|            1000.1|                0|                 0|             -0.1|             -0.1|       NA|          No|\n",
      "|    max| Woomera|                NA|                NA|                NA|               NA|                NA|        WSW|                NA|       WSW|       WSW|               NA|               NA|              NA|                NA|               NA|                NA|               NA|                NA|               NA|               NA|      Yes|         Yes|\n",
      "+-------+--------+------------------+------------------+------------------+-----------------+------------------+-----------+------------------+----------+----------+-----------------+-----------------+----------------+------------------+-----------------+------------------+-----------------+------------------+-----------------+-----------------+---------+------------+\n",
      "\n"
     ]
    },
    {
     "name": "stderr",
     "output_type": "stream",
     "text": [
      "                                                                                \r"
     ]
    }
   ],
   "source": [
    "new_df.describe().show()"
   ]
  },
  {
   "cell_type": "markdown",
   "id": "f7fa4986-fda2-42f7-b39e-0340e6b9845a",
   "metadata": {},
   "source": [
    "<span style=\"font-size: 36px;color: teal; font-family: TimesNewRoman;\">Question 8: List first five rows only for categorical variables.<span>"
   ]
  },
  {
   "cell_type": "code",
   "execution_count": 166,
   "id": "5b5cc3f6-dc84-4714-9112-16851cbecfa2",
   "metadata": {},
   "outputs": [
    {
     "name": "stdout",
     "output_type": "stream",
     "text": [
      "+--------+-------+-------+--------+-----------+--------+-----------+-------------+----------+----------+------------+------------+-----------+-----------+-----------+-----------+--------+--------+-------+-------+---------+------------+\n",
      "|Location|MinTemp|MaxTemp|Rainfall|Evaporation|Sunshine|WindGustDir|WindGustSpeed|WindDir9am|WindDir3pm|WindSpeed9am|WindSpeed3pm|Humidity9am|Humidity3pm|Pressure9am|Pressure3pm|Cloud9am|Cloud3pm|Temp9am|Temp3pm|RainToday|RainTomorrow|\n",
      "+--------+-------+-------+--------+-----------+--------+-----------+-------------+----------+----------+------------+------------+-----------+-----------+-----------+-----------+--------+--------+-------+-------+---------+------------+\n",
      "|  Albury|   13.4|   22.9|     0.6|         NA|      NA|          W|           44|         W|       WNW|          20|          24|         71|         22|     1007.7|     1007.1|       8|      NA|   16.9|   21.8|       No|          No|\n",
      "|  Albury|    7.4|   25.1|       0|         NA|      NA|        WNW|           44|       NNW|       WSW|           4|          22|         44|         25|     1010.6|     1007.8|      NA|      NA|   17.2|   24.3|       No|          No|\n",
      "|  Albury|   12.9|   25.7|       0|         NA|      NA|        WSW|           46|         W|       WSW|          19|          26|         38|         30|     1007.6|     1008.7|      NA|       2|     21|   23.2|       No|          No|\n",
      "|  Albury|    9.2|     28|       0|         NA|      NA|         NE|           24|        SE|         E|          11|           9|         45|         16|     1017.6|     1012.8|      NA|      NA|   18.1|   26.5|       No|          No|\n",
      "|  Albury|   17.5|   32.3|       1|         NA|      NA|          W|           41|       ENE|        NW|           7|          20|         82|         33|     1010.8|       1006|       7|       8|   17.8|   29.7|       No|          No|\n",
      "+--------+-------+-------+--------+-----------+--------+-----------+-------------+----------+----------+------------+------------+-----------+-----------+-----------+-----------+--------+--------+-------+-------+---------+------------+\n",
      "only showing top 5 rows\n",
      "\n"
     ]
    }
   ],
   "source": [
    "df_drop = df_pyspark.drop('Date','RISK_MM')\n",
    "df_drop.show(5)"
   ]
  },
  {
   "cell_type": "markdown",
   "id": "64119e4c-c858-4c20-a49c-ae741d27818a",
   "metadata": {},
   "source": [
    "<span style=\"font-size: 36px;color: teal; font-family: TimesNewRoman;\">Question 9: Decompose the date field into year, month, and day fields. Then, drop the original date field.<span>"
   ]
  },
  {
   "cell_type": "code",
   "execution_count": 56,
   "id": "cce72784-5330-43cf-a9e3-0a43916843e1",
   "metadata": {},
   "outputs": [
    {
     "name": "stdout",
     "output_type": "stream",
     "text": [
      "+--------+-------+-------+--------+-----------+--------+-----------+-------------+----------+----------+------------+------------+-----------+-----------+-----------+-----------+--------+--------+-------+-------+---------+------------+----+-----+---+\n",
      "|Location|MinTemp|MaxTemp|Rainfall|Evaporation|Sunshine|WindGustDir|WindGustSpeed|WindDir9am|WindDir3pm|WindSpeed9am|WindSpeed3pm|Humidity9am|Humidity3pm|Pressure9am|Pressure3pm|Cloud9am|Cloud3pm|Temp9am|Temp3pm|RainToday|RainTomorrow|year|month|day|\n",
      "+--------+-------+-------+--------+-----------+--------+-----------+-------------+----------+----------+------------+------------+-----------+-----------+-----------+-----------+--------+--------+-------+-------+---------+------------+----+-----+---+\n",
      "|  Albury|   13.4|   22.9|     0.6|         NA|      NA|          W|           44|         W|       WNW|          20|          24|         71|         22|     1007.7|     1007.1|       8|      NA|   16.9|   21.8|       No|          No|2008|   12|  1|\n",
      "|  Albury|    7.4|   25.1|       0|         NA|      NA|        WNW|           44|       NNW|       WSW|           4|          22|         44|         25|     1010.6|     1007.8|      NA|      NA|   17.2|   24.3|       No|          No|2008|   12|  2|\n",
      "|  Albury|   12.9|   25.7|       0|         NA|      NA|        WSW|           46|         W|       WSW|          19|          26|         38|         30|     1007.6|     1008.7|      NA|       2|     21|   23.2|       No|          No|2008|   12|  3|\n",
      "|  Albury|    9.2|     28|       0|         NA|      NA|         NE|           24|        SE|         E|          11|           9|         45|         16|     1017.6|     1012.8|      NA|      NA|   18.1|   26.5|       No|          No|2008|   12|  4|\n",
      "|  Albury|   17.5|   32.3|       1|         NA|      NA|          W|           41|       ENE|        NW|           7|          20|         82|         33|     1010.8|       1006|       7|       8|   17.8|   29.7|       No|          No|2008|   12|  5|\n",
      "|  Albury|   14.6|   29.7|     0.2|         NA|      NA|        WNW|           56|         W|         W|          19|          24|         55|         23|     1009.2|     1005.4|      NA|      NA|   20.6|   28.9|       No|          No|2008|   12|  6|\n",
      "|  Albury|   14.3|     25|       0|         NA|      NA|          W|           50|        SW|         W|          20|          24|         49|         19|     1009.6|     1008.2|       1|      NA|   18.1|   24.6|       No|          No|2008|   12|  7|\n",
      "|  Albury|    7.7|   26.7|       0|         NA|      NA|          W|           35|       SSE|         W|           6|          17|         48|         19|     1013.4|     1010.1|      NA|      NA|   16.3|   25.5|       No|          No|2008|   12|  8|\n",
      "|  Albury|    9.7|   31.9|       0|         NA|      NA|        NNW|           80|        SE|        NW|           7|          28|         42|          9|     1008.9|     1003.6|      NA|      NA|   18.3|   30.2|       No|         Yes|2008|   12|  9|\n",
      "|  Albury|   13.1|   30.1|     1.4|         NA|      NA|          W|           28|         S|       SSE|          15|          11|         58|         27|       1007|     1005.7|      NA|      NA|   20.1|   28.2|      Yes|          No|2008|   12| 10|\n",
      "|  Albury|   13.4|   30.4|       0|         NA|      NA|          N|           30|       SSE|       ESE|          17|           6|         48|         22|     1011.8|     1008.7|      NA|      NA|   20.4|   28.8|       No|         Yes|2008|   12| 11|\n",
      "|  Albury|   15.9|   21.7|     2.2|         NA|      NA|        NNE|           31|        NE|       ENE|          15|          13|         89|         91|     1010.5|     1004.2|       8|       8|   15.9|     17|      Yes|         Yes|2008|   12| 12|\n",
      "|  Albury|   15.9|   18.6|    15.6|         NA|      NA|          W|           61|       NNW|       NNW|          28|          28|         76|         93|      994.3|        993|       8|       8|   17.4|   15.8|      Yes|         Yes|2008|   12| 13|\n",
      "|  Albury|   12.6|     21|     3.6|         NA|      NA|         SW|           44|         W|       SSW|          24|          20|         65|         43|     1001.2|     1001.8|      NA|       7|   15.8|   19.8|      Yes|          No|2008|   12| 14|\n",
      "|  Albury|    9.8|   27.7|      NA|         NA|      NA|        WNW|           50|        NA|       WNW|          NA|          22|         50|         28|     1013.4|     1010.3|       0|      NA|   17.3|   26.2|       NA|          No|2008|   12| 16|\n",
      "|  Albury|   14.1|   20.9|       0|         NA|      NA|        ENE|           22|       SSW|         E|          11|           9|         69|         82|     1012.2|     1010.4|       8|       1|   17.2|   18.1|       No|         Yes|2008|   12| 17|\n",
      "|  Albury|   13.5|   22.9|    16.8|         NA|      NA|          W|           63|         N|       WNW|           6|          20|         80|         65|     1005.8|     1002.2|       8|       1|     18|   21.5|      Yes|         Yes|2008|   12| 18|\n",
      "|  Albury|   11.2|   22.5|    10.6|         NA|      NA|        SSE|           43|       WSW|        SW|          24|          17|         47|         32|     1009.4|     1009.7|      NA|       2|   15.5|     21|      Yes|          No|2008|   12| 19|\n",
      "|  Albury|    9.8|   25.6|       0|         NA|      NA|        SSE|           26|        SE|       NNW|          17|           6|         45|         26|     1019.2|     1017.1|      NA|      NA|   15.8|   23.2|       No|          No|2008|   12| 20|\n",
      "|  Albury|   11.5|   29.3|       0|         NA|      NA|          S|           24|        SE|        SE|           9|           9|         56|         28|     1019.3|     1014.8|      NA|      NA|   19.1|   27.3|       No|          No|2008|   12| 21|\n",
      "+--------+-------+-------+--------+-----------+--------+-----------+-------------+----------+----------+------------+------------+-----------+-----------+-----------+-----------+--------+--------+-------+-------+---------+------------+----+-----+---+\n",
      "only showing top 20 rows\n",
      "\n"
     ]
    }
   ],
   "source": [
    "from pyspark.sql.functions import year, month, dayofmonth\n",
    "\n",
    "# Decompose the date column into year, month, and day fields\n",
    "df = new_df.withColumn(\"year\", year(\"Date\")) \\\n",
    "       .withColumn(\"month\", month(\"Date\")) \\\n",
    "       .withColumn(\"day\", dayofmonth(\"Date\"))\n",
    "\n",
    "# Drop the original date column\n",
    "df =  df.drop(\"Date\")\n",
    "df.show()"
   ]
  },
  {
   "cell_type": "markdown",
   "id": "0a388130-3d46-43b4-9703-9409ec1aaea8",
   "metadata": {},
   "source": [
    "<span style=\"font-size: 36px;color: teal; font-family: TimesNewRoman;\">Question 10: How many unique locations are there in the dataset?<span>"
   ]
  },
  {
   "cell_type": "code",
   "execution_count": 57,
   "id": "7637b622-e543-45d9-b73c-d1dbca1ba1e4",
   "metadata": {},
   "outputs": [
    {
     "data": {
      "text/plain": [
       "49"
      ]
     },
     "execution_count": 57,
     "metadata": {},
     "output_type": "execute_result"
    }
   ],
   "source": [
    "unique = df.select('Location').distinct().count()\n",
    "unique"
   ]
  },
  {
   "cell_type": "markdown",
   "id": "ab1344b5-1c5c-4a4e-9250-26a97e15fa97",
   "metadata": {},
   "source": [
    "<span style=\"font-size: 36px;color: teal; font-family: TimesNewRoman;\">Question 11:\tPrint the number of times each unique location appears in the dataset.<span>"
   ]
  },
  {
   "cell_type": "code",
   "execution_count": 58,
   "id": "d1a863b0-d433-4e97-b99c-103427b8782a",
   "metadata": {},
   "outputs": [
    {
     "name": "stdout",
     "output_type": "stream",
     "text": [
      "+-------------+-----+\n",
      "|     Location|count|\n",
      "+-------------+-----+\n",
      "|NorfolkIsland| 2964|\n",
      "|        Cobar| 2988|\n",
      "|SydneyAirport| 3005|\n",
      "|   Wollongong| 2983|\n",
      "|  Williamtown| 2553|\n",
      "|        Moree| 2854|\n",
      "|       Sydney| 3337|\n",
      "|BadgerysCreek| 2928|\n",
      "|       Albury| 3011|\n",
      "|   WaggaWagga| 2976|\n",
      "| CoffsHarbour| 2953|\n",
      "|      Penrith| 2964|\n",
      "|    NorahHead| 2929|\n",
      "|    Newcastle| 2955|\n",
      "|     Richmond| 2951|\n",
      "|      Bendigo| 3034|\n",
      "|     Canberra| 3418|\n",
      "|      Mildura| 3007|\n",
      "|     Portland| 2996|\n",
      "|     Brisbane| 3161|\n",
      "+-------------+-----+\n",
      "only showing top 20 rows\n",
      "\n"
     ]
    }
   ],
   "source": [
    "location_frequency = df.groupby('Location').count()\n",
    "location_frequency.show()"
   ]
  },
  {
   "cell_type": "code",
   "execution_count": 59,
   "id": "a0133463-80f5-470d-82a0-5a6528b9b829",
   "metadata": {},
   "outputs": [
    {
     "name": "stdout",
     "output_type": "stream",
     "text": [
      "root\n",
      " |-- Location: string (nullable = true)\n",
      " |-- MinTemp: string (nullable = true)\n",
      " |-- MaxTemp: string (nullable = true)\n",
      " |-- Rainfall: string (nullable = true)\n",
      " |-- Evaporation: string (nullable = true)\n",
      " |-- Sunshine: string (nullable = true)\n",
      " |-- WindGustDir: string (nullable = true)\n",
      " |-- WindGustSpeed: string (nullable = true)\n",
      " |-- WindDir9am: string (nullable = true)\n",
      " |-- WindDir3pm: string (nullable = true)\n",
      " |-- WindSpeed9am: string (nullable = true)\n",
      " |-- WindSpeed3pm: string (nullable = true)\n",
      " |-- Humidity9am: string (nullable = true)\n",
      " |-- Humidity3pm: string (nullable = true)\n",
      " |-- Pressure9am: string (nullable = true)\n",
      " |-- Pressure3pm: string (nullable = true)\n",
      " |-- Cloud9am: string (nullable = true)\n",
      " |-- Cloud3pm: string (nullable = true)\n",
      " |-- Temp9am: string (nullable = true)\n",
      " |-- Temp3pm: string (nullable = true)\n",
      " |-- RainToday: string (nullable = true)\n",
      " |-- RainTomorrow: string (nullable = true)\n",
      " |-- year: integer (nullable = true)\n",
      " |-- month: integer (nullable = true)\n",
      " |-- day: integer (nullable = true)\n",
      "\n"
     ]
    }
   ],
   "source": [
    "df.printSchema()"
   ]
  },
  {
   "cell_type": "markdown",
   "id": "45fb87af-6445-4e78-b05b-ce912bf5fa5a",
   "metadata": {},
   "source": [
    "<span style=\"font-size: 36px;color: teal; font-family: TimesNewRoman;\">Converting the datatypes of numerical columns to their respective datatypes<span>"
   ]
  },
  {
   "cell_type": "code",
   "execution_count": 95,
   "id": "1247ca06-6639-4711-a30f-cb225d82d631",
   "metadata": {},
   "outputs": [
    {
     "name": "stdout",
     "output_type": "stream",
     "text": [
      "root\n",
      " |-- Location: string (nullable = true)\n",
      " |-- MinTemp: double (nullable = true)\n",
      " |-- MaxTemp: double (nullable = true)\n",
      " |-- Rainfall: double (nullable = true)\n",
      " |-- Evaporation: double (nullable = true)\n",
      " |-- Sunshine: double (nullable = true)\n",
      " |-- WindGustDir: string (nullable = true)\n",
      " |-- WindGustSpeed: double (nullable = true)\n",
      " |-- WindDir9am: string (nullable = true)\n",
      " |-- WindDir3pm: string (nullable = true)\n",
      " |-- WindSpeed9am: double (nullable = true)\n",
      " |-- WindSpeed3pm: double (nullable = true)\n",
      " |-- Humidity9am: double (nullable = true)\n",
      " |-- Humidity3pm: double (nullable = true)\n",
      " |-- Pressure9am: double (nullable = true)\n",
      " |-- Pressure3pm: double (nullable = true)\n",
      " |-- Cloud9am: double (nullable = true)\n",
      " |-- Cloud3pm: double (nullable = true)\n",
      " |-- Temp9am: double (nullable = true)\n",
      " |-- Temp3pm: double (nullable = true)\n",
      " |-- RainToday: string (nullable = true)\n",
      " |-- RainTomorrow: string (nullable = true)\n",
      " |-- year: double (nullable = true)\n",
      " |-- month: double (nullable = true)\n",
      " |-- day: double (nullable = true)\n",
      "\n"
     ]
    }
   ],
   "source": [
    "from pyspark.sql.functions import col\n",
    "string_columns = ['MinTemp','MaxTemp','Rainfall','Evaporation','Sunshine','WindGustSpeed','WindSpeed9am','WindSpeed3pm','Humidity9am','Humidity3pm',\n",
    "                  'Pressure9am','Pressure3pm','Cloud9am','Cloud3pm','Temp9am','Temp3pm','year','month','day']\n",
    "for col_name in string_columns:\n",
    "    df = df.withColumn(col_name, col(col_name).cast('double'))\n",
    "\n",
    "df.printSchema()\n"
   ]
  },
  {
   "cell_type": "markdown",
   "id": "410d5fca-4da3-41fc-a7f4-448926beb2b1",
   "metadata": {},
   "source": [
    "<span style=\"font-size: 36px;color: teal; font-family: TimesNewRoman;\"><li style=\"font-size: 36px;color: teal; font-family: TimesNewRoman;\">Question 14:\tYou may use the median value (median imputation) of each field to fill null values if it is a numerical column. Use the most frequent value in case of a categorical column<li style=\"font-size: 36px;color: teal; font-family: TimesNewRoman;\">Ans: Finding the median and replacing null values for all the numerical columns using the Imputer function from Pyspark<span>"
   ]
  },
  {
   "cell_type": "code",
   "execution_count": 109,
   "id": "3605e8af-a940-46db-8f96-5f4a5ac25048",
   "metadata": {},
   "outputs": [
    {
     "name": "stdout",
     "output_type": "stream",
     "text": [
      "+--------+-----------+----------+----------+---------+------------+---------------+---------------+----------------+-------------------+----------------+---------------------+--------------------+--------------------+-------------------+-------------------+-------------------+-------------------+----------------+----------------+---------------+---------------+------------+-------------+-----------+\n",
      "|Location|WindGustDir|WindDir9am|WindDir3pm|RainToday|RainTomorrow|MinTemp_median |MaxTemp_median |Rainfall_median |Evaporation_median |Sunshine_median |WindGustSpeed_median |WindSpeed9am_median |WindSpeed3pm_median |Humidity9am_median |Humidity3pm_median |Pressure9am_median |Pressure3pm_median |Cloud9am_median |Cloud3pm_median |Temp9am_median |Temp3pm_median |year_median |month_median |day_median |\n",
      "+--------+-----------+----------+----------+---------+------------+---------------+---------------+----------------+-------------------+----------------+---------------------+--------------------+--------------------+-------------------+-------------------+-------------------+-------------------+----------------+----------------+---------------+---------------+------------+-------------+-----------+\n",
      "|  Albury|          W|         W|       WNW|       No|          No|           13.4|           22.9|             0.6|                4.8|             8.5|                 44.0|                20.0|                24.0|               71.0|               22.0|             1007.7|             1007.1|             8.0|             5.0|           16.9|           21.8|      2008.0|         12.0|        1.0|\n",
      "|  Albury|        WNW|       NNW|       WSW|       No|          No|            7.4|           25.1|             0.0|                4.8|             8.5|                 44.0|                 4.0|                22.0|               44.0|               25.0|             1010.6|             1007.8|             5.0|             5.0|           17.2|           24.3|      2008.0|         12.0|        2.0|\n",
      "|  Albury|        WSW|         W|       WSW|       No|          No|           12.9|           25.7|             0.0|                4.8|             8.5|                 46.0|                19.0|                26.0|               38.0|               30.0|             1007.6|             1008.7|             5.0|             2.0|           21.0|           23.2|      2008.0|         12.0|        3.0|\n",
      "|  Albury|         NE|        SE|         E|       No|          No|            9.2|           28.0|             0.0|                4.8|             8.5|                 24.0|                11.0|                 9.0|               45.0|               16.0|             1017.6|             1012.8|             5.0|             5.0|           18.1|           26.5|      2008.0|         12.0|        4.0|\n",
      "|  Albury|          W|       ENE|        NW|       No|          No|           17.5|           32.3|             1.0|                4.8|             8.5|                 41.0|                 7.0|                20.0|               82.0|               33.0|             1010.8|             1006.0|             7.0|             8.0|           17.8|           29.7|      2008.0|         12.0|        5.0|\n",
      "|  Albury|        WNW|         W|         W|       No|          No|           14.6|           29.7|             0.2|                4.8|             8.5|                 56.0|                19.0|                24.0|               55.0|               23.0|             1009.2|             1005.4|             5.0|             5.0|           20.6|           28.9|      2008.0|         12.0|        6.0|\n",
      "|  Albury|          W|        SW|         W|       No|          No|           14.3|           25.0|             0.0|                4.8|             8.5|                 50.0|                20.0|                24.0|               49.0|               19.0|             1009.6|             1008.2|             1.0|             5.0|           18.1|           24.6|      2008.0|         12.0|        7.0|\n",
      "|  Albury|          W|       SSE|         W|       No|          No|            7.7|           26.7|             0.0|                4.8|             8.5|                 35.0|                 6.0|                17.0|               48.0|               19.0|             1013.4|             1010.1|             5.0|             5.0|           16.3|           25.5|      2008.0|         12.0|        8.0|\n",
      "|  Albury|        NNW|        SE|        NW|       No|         Yes|            9.7|           31.9|             0.0|                4.8|             8.5|                 80.0|                 7.0|                28.0|               42.0|                9.0|             1008.9|             1003.6|             5.0|             5.0|           18.3|           30.2|      2008.0|         12.0|        9.0|\n",
      "|  Albury|          W|         S|       SSE|      Yes|          No|           13.1|           30.1|             1.4|                4.8|             8.5|                 28.0|                15.0|                11.0|               58.0|               27.0|             1007.0|             1005.7|             5.0|             5.0|           20.1|           28.2|      2008.0|         12.0|       10.0|\n",
      "|  Albury|          N|       SSE|       ESE|       No|         Yes|           13.4|           30.4|             0.0|                4.8|             8.5|                 30.0|                17.0|                 6.0|               48.0|               22.0|             1011.8|             1008.7|             5.0|             5.0|           20.4|           28.8|      2008.0|         12.0|       11.0|\n",
      "|  Albury|        NNE|        NE|       ENE|      Yes|         Yes|           15.9|           21.7|             2.2|                4.8|             8.5|                 31.0|                15.0|                13.0|               89.0|               91.0|             1010.5|             1004.2|             8.0|             8.0|           15.9|           17.0|      2008.0|         12.0|       12.0|\n",
      "|  Albury|          W|       NNW|       NNW|      Yes|         Yes|           15.9|           18.6|            15.6|                4.8|             8.5|                 61.0|                28.0|                28.0|               76.0|               93.0|              994.3|              993.0|             8.0|             8.0|           17.4|           15.8|      2008.0|         12.0|       13.0|\n",
      "|  Albury|         SW|         W|       SSW|      Yes|          No|           12.6|           21.0|             3.6|                4.8|             8.5|                 44.0|                24.0|                20.0|               65.0|               43.0|             1001.2|             1001.8|             5.0|             7.0|           15.8|           19.8|      2008.0|         12.0|       14.0|\n",
      "|  Albury|        WNW|        NA|       WNW|       NA|          No|            9.8|           27.7|             0.0|                4.8|             8.5|                 50.0|                13.0|                22.0|               50.0|               28.0|             1013.4|             1010.3|             0.0|             5.0|           17.3|           26.2|      2008.0|         12.0|       16.0|\n",
      "|  Albury|        ENE|       SSW|         E|       No|         Yes|           14.1|           20.9|             0.0|                4.8|             8.5|                 22.0|                11.0|                 9.0|               69.0|               82.0|             1012.2|             1010.4|             8.0|             1.0|           17.2|           18.1|      2008.0|         12.0|       17.0|\n",
      "|  Albury|          W|         N|       WNW|      Yes|         Yes|           13.5|           22.9|            16.8|                4.8|             8.5|                 63.0|                 6.0|                20.0|               80.0|               65.0|             1005.8|             1002.2|             8.0|             1.0|           18.0|           21.5|      2008.0|         12.0|       18.0|\n",
      "|  Albury|        SSE|       WSW|        SW|      Yes|          No|           11.2|           22.5|            10.6|                4.8|             8.5|                 43.0|                24.0|                17.0|               47.0|               32.0|             1009.4|             1009.7|             5.0|             2.0|           15.5|           21.0|      2008.0|         12.0|       19.0|\n",
      "|  Albury|        SSE|        SE|       NNW|       No|          No|            9.8|           25.6|             0.0|                4.8|             8.5|                 26.0|                17.0|                 6.0|               45.0|               26.0|             1019.2|             1017.1|             5.0|             5.0|           15.8|           23.2|      2008.0|         12.0|       20.0|\n",
      "|  Albury|          S|        SE|        SE|       No|          No|           11.5|           29.3|             0.0|                4.8|             8.5|                 24.0|                 9.0|                 9.0|               56.0|               28.0|             1019.3|             1014.8|             5.0|             5.0|           19.1|           27.3|      2008.0|         12.0|       21.0|\n",
      "+--------+-----------+----------+----------+---------+------------+---------------+---------------+----------------+-------------------+----------------+---------------------+--------------------+--------------------+-------------------+-------------------+-------------------+-------------------+----------------+----------------+---------------+---------------+------------+-------------+-----------+\n",
      "only showing top 20 rows\n",
      "\n"
     ]
    }
   ],
   "source": [
    "# Handling missing values for numerical columns using the median of the values in the particular columns\n",
    "from pyspark.ml.feature import Imputer\n",
    "median_df = df\n",
    "for col in string_columns:\n",
    "    imputer = Imputer(inputCol=col,outputCol=col+'_median ',strategy=\"median\")\n",
    "    median_df = imputer.fit(median_df).transform(median_df)\n",
    "\n",
    "median_df = median_df.drop(*string_columns)\n",
    "median_df.show()"
   ]
  },
  {
   "cell_type": "markdown",
   "id": "6f730276-4fc9-44fb-b4e7-528dfb313a8a",
   "metadata": {},
   "source": [
    "<span style=\"font-size: 36px;color: teal; font-family: TimesNewRoman;\">Ans: Converting the categorical columns to indexed columns using StringIndexer from Pyspark<span>"
   ]
  },
  {
   "cell_type": "code",
   "execution_count": 110,
   "id": "5a3e2f0c-00c3-416b-8b74-eb73f529d826",
   "metadata": {},
   "outputs": [
    {
     "name": "stdout",
     "output_type": "stream",
     "text": [
      "+---------------+---------------+----------------+-------------------+----------------+---------------------+--------------------+--------------------+-------------------+-------------------+-------------------+-------------------+----------------+----------------+---------------+---------------+------------+-------------+-----------+----------------+-------------------+------------------+------------------+-----------------+--------------------+\n",
      "|MinTemp_median |MaxTemp_median |Rainfall_median |Evaporation_median |Sunshine_median |WindGustSpeed_median |WindSpeed9am_median |WindSpeed3pm_median |Humidity9am_median |Humidity3pm_median |Pressure9am_median |Pressure3pm_median |Cloud9am_median |Cloud3pm_median |Temp9am_median |Temp3pm_median |year_median |month_median |day_median |Location_indexed|WindGustDir_indexed|WindDir9am_indexed|WindDir3pm_indexed|RainToday_indexed|RainTomorrow_indexed|\n",
      "+---------------+---------------+----------------+-------------------+----------------+---------------------+--------------------+--------------------+-------------------+-------------------+-------------------+-------------------+----------------+----------------+---------------+---------------+------------+-------------+-----------+----------------+-------------------+------------------+------------------+-----------------+--------------------+\n",
      "|           13.4|           22.9|             0.6|                4.8|             8.5|                 44.0|                20.0|                24.0|               71.0|               22.0|             1007.7|             1007.1|             8.0|             5.0|           16.9|           21.8|      2008.0|         12.0|        1.0|            14.0|                0.0|               7.0|               7.0|              0.0|                 0.0|\n",
      "|            7.4|           25.1|             0.0|                4.8|             8.5|                 44.0|                 4.0|                22.0|               44.0|               25.0|             1010.6|             1007.8|             5.0|             5.0|           17.2|           24.3|      2008.0|         12.0|        2.0|            14.0|               10.0|              10.0|               3.0|              0.0|                 0.0|\n",
      "|           12.9|           25.7|             0.0|                4.8|             8.5|                 46.0|                19.0|                26.0|               38.0|               30.0|             1007.6|             1008.7|             5.0|             2.0|           21.0|           23.2|      2008.0|         12.0|        3.0|            14.0|                7.0|               7.0|               3.0|              0.0|                 0.0|\n",
      "|            9.2|           28.0|             0.0|                4.8|             8.5|                 24.0|                11.0|                 9.0|               45.0|               16.0|             1017.6|             1012.8|             5.0|             5.0|           18.1|           26.5|      2008.0|         12.0|        4.0|            14.0|               14.0|               2.0|              10.0|              0.0|                 0.0|\n",
      "|           17.5|           32.3|             1.0|                4.8|             8.5|                 41.0|                 7.0|                20.0|               82.0|               33.0|             1010.8|             1006.0|             7.0|             8.0|           17.8|           29.7|      2008.0|         12.0|        5.0|            14.0|                0.0|              11.0|               8.0|              0.0|                 0.0|\n",
      "|           14.6|           29.7|             0.2|                4.8|             8.5|                 56.0|                19.0|                24.0|               55.0|               23.0|             1009.2|             1005.4|             5.0|             5.0|           20.6|           28.9|      2008.0|         12.0|        6.0|            14.0|               10.0|               7.0|               1.0|              0.0|                 0.0|\n",
      "|           14.3|           25.0|             0.0|                4.8|             8.5|                 50.0|                20.0|                24.0|               49.0|               19.0|             1009.6|             1008.2|             1.0|             5.0|           18.1|           24.6|      2008.0|         12.0|        7.0|            14.0|                0.0|               8.0|               1.0|              0.0|                 0.0|\n",
      "|            7.7|           26.7|             0.0|                4.8|             8.5|                 35.0|                 6.0|                17.0|               48.0|               19.0|             1013.4|             1010.1|             5.0|             5.0|           16.3|           25.5|      2008.0|         12.0|        8.0|            14.0|                0.0|               4.0|               1.0|              0.0|                 0.0|\n",
      "|            9.7|           31.9|             0.0|                4.8|             8.5|                 80.0|                 7.0|                28.0|               42.0|                9.0|             1008.9|             1003.6|             5.0|             5.0|           18.3|           30.2|      2008.0|         12.0|        9.0|            14.0|               15.0|               2.0|               8.0|              0.0|                 1.0|\n",
      "|           13.1|           30.1|             1.4|                4.8|             8.5|                 28.0|                15.0|                11.0|               58.0|               27.0|             1007.0|             1005.7|             5.0|             5.0|           20.1|           28.2|      2008.0|         12.0|       10.0|            14.0|                0.0|               6.0|               5.0|              1.0|                 0.0|\n",
      "|           13.4|           30.4|             0.0|                4.8|             8.5|                 30.0|                17.0|                 6.0|               48.0|               22.0|             1011.8|             1008.7|             5.0|             5.0|           20.4|           28.8|      2008.0|         12.0|       11.0|            14.0|                4.0|               4.0|               9.0|              0.0|                 1.0|\n",
      "|           15.9|           21.7|             2.2|                4.8|             8.5|                 31.0|                15.0|                13.0|               89.0|               91.0|             1010.5|             1004.2|             8.0|             8.0|           15.9|           17.0|      2008.0|         12.0|       12.0|            14.0|               16.0|              13.0|              14.0|              1.0|                 1.0|\n",
      "|           15.9|           18.6|            15.6|                4.8|             8.5|                 61.0|                28.0|                28.0|               76.0|               93.0|              994.3|              993.0|             8.0|             8.0|           17.4|           15.8|      2008.0|         12.0|       13.0|            14.0|                0.0|              10.0|              13.0|              1.0|                 1.0|\n",
      "|           12.6|           21.0|             3.6|                4.8|             8.5|                 44.0|                24.0|                20.0|               65.0|               43.0|             1001.2|             1001.8|             5.0|             7.0|           15.8|           19.8|      2008.0|         12.0|       14.0|            14.0|                8.0|               7.0|              12.0|              1.0|                 0.0|\n",
      "|            9.8|           27.7|             0.0|                4.8|             8.5|                 50.0|                13.0|                22.0|               50.0|               28.0|             1013.4|             1010.3|             0.0|             5.0|           17.3|           26.2|      2008.0|         12.0|       16.0|            14.0|               10.0|               1.0|               7.0|              2.0|                 0.0|\n",
      "|           14.1|           20.9|             0.0|                4.8|             8.5|                 22.0|                11.0|                 9.0|               69.0|               82.0|             1012.2|             1010.4|             8.0|             1.0|           17.2|           18.1|      2008.0|         12.0|       17.0|            14.0|               12.0|              14.0|              10.0|              0.0|                 1.0|\n",
      "|           13.5|           22.9|            16.8|                4.8|             8.5|                 63.0|                 6.0|                20.0|               80.0|               65.0|             1005.8|             1002.2|             8.0|             1.0|           18.0|           21.5|      2008.0|         12.0|       18.0|            14.0|                0.0|               0.0|               7.0|              1.0|                 1.0|\n",
      "|           11.2|           22.5|            10.6|                4.8|             8.5|                 43.0|                24.0|                17.0|               47.0|               32.0|             1009.4|             1009.7|             5.0|             2.0|           15.5|           21.0|      2008.0|         12.0|       19.0|            14.0|                5.0|              16.0|               4.0|              1.0|                 0.0|\n",
      "|            9.8|           25.6|             0.0|                4.8|             8.5|                 26.0|                17.0|                 6.0|               45.0|               26.0|             1019.2|             1017.1|             5.0|             5.0|           15.8|           23.2|      2008.0|         12.0|       20.0|            14.0|                5.0|               2.0|              13.0|              0.0|                 0.0|\n",
      "|           11.5|           29.3|             0.0|                4.8|             8.5|                 24.0|                 9.0|                 9.0|               56.0|               28.0|             1019.3|             1014.8|             5.0|             5.0|           19.1|           27.3|      2008.0|         12.0|       21.0|            14.0|                6.0|               2.0|               0.0|              0.0|                 0.0|\n",
      "+---------------+---------------+----------------+-------------------+----------------+---------------------+--------------------+--------------------+-------------------+-------------------+-------------------+-------------------+----------------+----------------+---------------+---------------+------------+-------------+-----------+----------------+-------------------+------------------+------------------+-----------------+--------------------+\n",
      "only showing top 20 rows\n",
      "\n"
     ]
    }
   ],
   "source": [
    "from pyspark.ml.feature import StringIndexer, OneHotEncoder, VectorAssembler\n",
    "inputColumns = ['Location','WindGustDir','WindDir9am','WindDir3pm','RainToday','RainTomorrow']\n",
    "indexed_df = median_df\n",
    "for col in inputColumns:\n",
    "    string_indexer = StringIndexer(inputCol=col,outputCol=col+'_indexed',handleInvalid=\"keep\")\n",
    "    indexed_df = string_indexer.fit(indexed_df).transform(indexed_df)\n",
    "\n",
    "indexed_df = indexed_df.drop(*inputColumns)\n",
    "indexed_df.show()"
   ]
  },
  {
   "cell_type": "markdown",
   "id": "4db4fc00-6e43-443c-8db9-1621e2f459fb",
   "metadata": {},
   "source": [
    "<span style=\"font-size: 36px;color: teal; font-family: TimesNewRoman;\">Ans: Now finding the mode for the converted categorical columns to indexed columns to replace it with null values<span>"
   ]
  },
  {
   "cell_type": "code",
   "execution_count": 111,
   "id": "20a8a0f7-ce99-49bd-833f-74409a8c4280",
   "metadata": {},
   "outputs": [
    {
     "name": "stdout",
     "output_type": "stream",
     "text": [
      "+---------------+---------------+----------------+-------------------+----------------+---------------------+--------------------+--------------------+-------------------+-------------------+-------------------+-------------------+----------------+----------------+---------------+---------------+------------+-------------+-----------+---------------------+------------------------+-----------------------+-----------------------+----------------------+-------------------------+\n",
      "|MinTemp_median |MaxTemp_median |Rainfall_median |Evaporation_median |Sunshine_median |WindGustSpeed_median |WindSpeed9am_median |WindSpeed3pm_median |Humidity9am_median |Humidity3pm_median |Pressure9am_median |Pressure3pm_median |Cloud9am_median |Cloud3pm_median |Temp9am_median |Temp3pm_median |year_median |month_median |day_median |Location_indexed_mode|WindGustDir_indexed_mode|WindDir9am_indexed_mode|WindDir3pm_indexed_mode|RainToday_indexed_mode|RainTomorrow_indexed_mode|\n",
      "+---------------+---------------+----------------+-------------------+----------------+---------------------+--------------------+--------------------+-------------------+-------------------+-------------------+-------------------+----------------+----------------+---------------+---------------+------------+-------------+-----------+---------------------+------------------------+-----------------------+-----------------------+----------------------+-------------------------+\n",
      "|           13.4|           22.9|             0.6|                4.8|             8.5|                 44.0|                20.0|                24.0|               71.0|               22.0|             1007.7|             1007.1|             8.0|             5.0|           16.9|           21.8|      2008.0|         12.0|        1.0|                 14.0|                     0.0|                    7.0|                    7.0|                   0.0|                      0.0|\n",
      "|            7.4|           25.1|             0.0|                4.8|             8.5|                 44.0|                 4.0|                22.0|               44.0|               25.0|             1010.6|             1007.8|             5.0|             5.0|           17.2|           24.3|      2008.0|         12.0|        2.0|                 14.0|                    10.0|                   10.0|                    3.0|                   0.0|                      0.0|\n",
      "|           12.9|           25.7|             0.0|                4.8|             8.5|                 46.0|                19.0|                26.0|               38.0|               30.0|             1007.6|             1008.7|             5.0|             2.0|           21.0|           23.2|      2008.0|         12.0|        3.0|                 14.0|                     7.0|                    7.0|                    3.0|                   0.0|                      0.0|\n",
      "|            9.2|           28.0|             0.0|                4.8|             8.5|                 24.0|                11.0|                 9.0|               45.0|               16.0|             1017.6|             1012.8|             5.0|             5.0|           18.1|           26.5|      2008.0|         12.0|        4.0|                 14.0|                    14.0|                    2.0|                   10.0|                   0.0|                      0.0|\n",
      "|           17.5|           32.3|             1.0|                4.8|             8.5|                 41.0|                 7.0|                20.0|               82.0|               33.0|             1010.8|             1006.0|             7.0|             8.0|           17.8|           29.7|      2008.0|         12.0|        5.0|                 14.0|                     0.0|                   11.0|                    8.0|                   0.0|                      0.0|\n",
      "|           14.6|           29.7|             0.2|                4.8|             8.5|                 56.0|                19.0|                24.0|               55.0|               23.0|             1009.2|             1005.4|             5.0|             5.0|           20.6|           28.9|      2008.0|         12.0|        6.0|                 14.0|                    10.0|                    7.0|                    1.0|                   0.0|                      0.0|\n",
      "|           14.3|           25.0|             0.0|                4.8|             8.5|                 50.0|                20.0|                24.0|               49.0|               19.0|             1009.6|             1008.2|             1.0|             5.0|           18.1|           24.6|      2008.0|         12.0|        7.0|                 14.0|                     0.0|                    8.0|                    1.0|                   0.0|                      0.0|\n",
      "|            7.7|           26.7|             0.0|                4.8|             8.5|                 35.0|                 6.0|                17.0|               48.0|               19.0|             1013.4|             1010.1|             5.0|             5.0|           16.3|           25.5|      2008.0|         12.0|        8.0|                 14.0|                     0.0|                    4.0|                    1.0|                   0.0|                      0.0|\n",
      "|            9.7|           31.9|             0.0|                4.8|             8.5|                 80.0|                 7.0|                28.0|               42.0|                9.0|             1008.9|             1003.6|             5.0|             5.0|           18.3|           30.2|      2008.0|         12.0|        9.0|                 14.0|                    15.0|                    2.0|                    8.0|                   0.0|                      1.0|\n",
      "|           13.1|           30.1|             1.4|                4.8|             8.5|                 28.0|                15.0|                11.0|               58.0|               27.0|             1007.0|             1005.7|             5.0|             5.0|           20.1|           28.2|      2008.0|         12.0|       10.0|                 14.0|                     0.0|                    6.0|                    5.0|                   1.0|                      0.0|\n",
      "|           13.4|           30.4|             0.0|                4.8|             8.5|                 30.0|                17.0|                 6.0|               48.0|               22.0|             1011.8|             1008.7|             5.0|             5.0|           20.4|           28.8|      2008.0|         12.0|       11.0|                 14.0|                     4.0|                    4.0|                    9.0|                   0.0|                      1.0|\n",
      "|           15.9|           21.7|             2.2|                4.8|             8.5|                 31.0|                15.0|                13.0|               89.0|               91.0|             1010.5|             1004.2|             8.0|             8.0|           15.9|           17.0|      2008.0|         12.0|       12.0|                 14.0|                    16.0|                   13.0|                   14.0|                   1.0|                      1.0|\n",
      "|           15.9|           18.6|            15.6|                4.8|             8.5|                 61.0|                28.0|                28.0|               76.0|               93.0|              994.3|              993.0|             8.0|             8.0|           17.4|           15.8|      2008.0|         12.0|       13.0|                 14.0|                     0.0|                   10.0|                   13.0|                   1.0|                      1.0|\n",
      "|           12.6|           21.0|             3.6|                4.8|             8.5|                 44.0|                24.0|                20.0|               65.0|               43.0|             1001.2|             1001.8|             5.0|             7.0|           15.8|           19.8|      2008.0|         12.0|       14.0|                 14.0|                     8.0|                    7.0|                   12.0|                   1.0|                      0.0|\n",
      "|            9.8|           27.7|             0.0|                4.8|             8.5|                 50.0|                13.0|                22.0|               50.0|               28.0|             1013.4|             1010.3|             0.0|             5.0|           17.3|           26.2|      2008.0|         12.0|       16.0|                 14.0|                    10.0|                    1.0|                    7.0|                   2.0|                      0.0|\n",
      "|           14.1|           20.9|             0.0|                4.8|             8.5|                 22.0|                11.0|                 9.0|               69.0|               82.0|             1012.2|             1010.4|             8.0|             1.0|           17.2|           18.1|      2008.0|         12.0|       17.0|                 14.0|                    12.0|                   14.0|                   10.0|                   0.0|                      1.0|\n",
      "|           13.5|           22.9|            16.8|                4.8|             8.5|                 63.0|                 6.0|                20.0|               80.0|               65.0|             1005.8|             1002.2|             8.0|             1.0|           18.0|           21.5|      2008.0|         12.0|       18.0|                 14.0|                     0.0|                    0.0|                    7.0|                   1.0|                      1.0|\n",
      "|           11.2|           22.5|            10.6|                4.8|             8.5|                 43.0|                24.0|                17.0|               47.0|               32.0|             1009.4|             1009.7|             5.0|             2.0|           15.5|           21.0|      2008.0|         12.0|       19.0|                 14.0|                     5.0|                   16.0|                    4.0|                   1.0|                      0.0|\n",
      "|            9.8|           25.6|             0.0|                4.8|             8.5|                 26.0|                17.0|                 6.0|               45.0|               26.0|             1019.2|             1017.1|             5.0|             5.0|           15.8|           23.2|      2008.0|         12.0|       20.0|                 14.0|                     5.0|                    2.0|                   13.0|                   0.0|                      0.0|\n",
      "|           11.5|           29.3|             0.0|                4.8|             8.5|                 24.0|                 9.0|                 9.0|               56.0|               28.0|             1019.3|             1014.8|             5.0|             5.0|           19.1|           27.3|      2008.0|         12.0|       21.0|                 14.0|                     6.0|                    2.0|                    0.0|                   0.0|                      0.0|\n",
      "+---------------+---------------+----------------+-------------------+----------------+---------------------+--------------------+--------------------+-------------------+-------------------+-------------------+-------------------+----------------+----------------+---------------+---------------+------------+-------------+-----------+---------------------+------------------------+-----------------------+-----------------------+----------------------+-------------------------+\n",
      "only showing top 20 rows\n",
      "\n"
     ]
    }
   ],
   "source": [
    "# Handling the missing values for the categorical columns using the mode imputation after the string indexing\n",
    "mode_df = indexed_df\n",
    "inputColumns = ['Location_indexed','WindGustDir_indexed','WindDir9am_indexed','WindDir3pm_indexed','RainToday_indexed','RainTomorrow_indexed']\n",
    "for col in inputColumns:\n",
    "    imputer = Imputer(inputCol=col,outputCol=col+'_mode',strategy=\"mode\")\n",
    "    mode_df = imputer.fit(mode_df).transform(mode_df)\n",
    "\n",
    "mode_df = mode_df.drop(*inputColumns)\n",
    "mode_df.show()"
   ]
  },
  {
   "cell_type": "markdown",
   "id": "c121ba96-b095-4e77-a388-907813ef3c30",
   "metadata": {},
   "source": [
    "<span style=\"font-size: 36px;color: teal; font-family: TimesNewRoman;\">Question 12:\tPerform One Hot Encoding for each categorical variable.<span>"
   ]
  },
  {
   "cell_type": "code",
   "execution_count": 134,
   "id": "f0997da5-89a9-476d-9134-e31e48b82402",
   "metadata": {},
   "outputs": [
    {
     "name": "stdout",
     "output_type": "stream",
     "text": [
      "+---------------+---------------+----------------+-------------------+----------------+---------------------+--------------------+--------------------+-------------------+-------------------+-------------------+-------------------+----------------+----------------+---------------+---------------+------------+-------------+-----------+-------------------------+-----------------------------+--------------------------------+-------------------------------+-------------------------------+------------------------------+\n",
      "|MinTemp_median |MaxTemp_median |Rainfall_median |Evaporation_median |Sunshine_median |WindGustSpeed_median |WindSpeed9am_median |WindSpeed3pm_median |Humidity9am_median |Humidity3pm_median |Pressure9am_median |Pressure3pm_median |Cloud9am_median |Cloud3pm_median |Temp9am_median |Temp3pm_median |year_median |month_median |day_median |RainTomorrow_indexed_mode|Location_indexed_mode_encoded|WindGustDir_indexed_mode_encoded|WindDir9am_indexed_mode_encoded|WindDir3pm_indexed_mode_encoded|RainToday_indexed_mode_encoded|\n",
      "+---------------+---------------+----------------+-------------------+----------------+---------------------+--------------------+--------------------+-------------------+-------------------+-------------------+-------------------+----------------+----------------+---------------+---------------+------------+-------------+-----------+-------------------------+-----------------------------+--------------------------------+-------------------------------+-------------------------------+------------------------------+\n",
      "|           13.4|           22.9|             0.6|                4.8|             8.5|                 44.0|                20.0|                24.0|               71.0|               22.0|             1007.7|             1007.1|             8.0|             5.0|           16.9|           21.8|      2008.0|         12.0|        1.0|                      0.0|              (48,[14],[1.0])|                  (16,[0],[1.0])|                 (16,[7],[1.0])|                 (16,[7],[1.0])|                 (2,[0],[1.0])|\n",
      "|            7.4|           25.1|             0.0|                4.8|             8.5|                 44.0|                 4.0|                22.0|               44.0|               25.0|             1010.6|             1007.8|             5.0|             5.0|           17.2|           24.3|      2008.0|         12.0|        2.0|                      0.0|              (48,[14],[1.0])|                 (16,[10],[1.0])|                (16,[10],[1.0])|                 (16,[3],[1.0])|                 (2,[0],[1.0])|\n",
      "|           12.9|           25.7|             0.0|                4.8|             8.5|                 46.0|                19.0|                26.0|               38.0|               30.0|             1007.6|             1008.7|             5.0|             2.0|           21.0|           23.2|      2008.0|         12.0|        3.0|                      0.0|              (48,[14],[1.0])|                  (16,[7],[1.0])|                 (16,[7],[1.0])|                 (16,[3],[1.0])|                 (2,[0],[1.0])|\n",
      "|            9.2|           28.0|             0.0|                4.8|             8.5|                 24.0|                11.0|                 9.0|               45.0|               16.0|             1017.6|             1012.8|             5.0|             5.0|           18.1|           26.5|      2008.0|         12.0|        4.0|                      0.0|              (48,[14],[1.0])|                 (16,[14],[1.0])|                 (16,[2],[1.0])|                (16,[10],[1.0])|                 (2,[0],[1.0])|\n",
      "|           17.5|           32.3|             1.0|                4.8|             8.5|                 41.0|                 7.0|                20.0|               82.0|               33.0|             1010.8|             1006.0|             7.0|             8.0|           17.8|           29.7|      2008.0|         12.0|        5.0|                      0.0|              (48,[14],[1.0])|                  (16,[0],[1.0])|                (16,[11],[1.0])|                 (16,[8],[1.0])|                 (2,[0],[1.0])|\n",
      "|           14.6|           29.7|             0.2|                4.8|             8.5|                 56.0|                19.0|                24.0|               55.0|               23.0|             1009.2|             1005.4|             5.0|             5.0|           20.6|           28.9|      2008.0|         12.0|        6.0|                      0.0|              (48,[14],[1.0])|                 (16,[10],[1.0])|                 (16,[7],[1.0])|                 (16,[1],[1.0])|                 (2,[0],[1.0])|\n",
      "|           14.3|           25.0|             0.0|                4.8|             8.5|                 50.0|                20.0|                24.0|               49.0|               19.0|             1009.6|             1008.2|             1.0|             5.0|           18.1|           24.6|      2008.0|         12.0|        7.0|                      0.0|              (48,[14],[1.0])|                  (16,[0],[1.0])|                 (16,[8],[1.0])|                 (16,[1],[1.0])|                 (2,[0],[1.0])|\n",
      "|            7.7|           26.7|             0.0|                4.8|             8.5|                 35.0|                 6.0|                17.0|               48.0|               19.0|             1013.4|             1010.1|             5.0|             5.0|           16.3|           25.5|      2008.0|         12.0|        8.0|                      0.0|              (48,[14],[1.0])|                  (16,[0],[1.0])|                 (16,[4],[1.0])|                 (16,[1],[1.0])|                 (2,[0],[1.0])|\n",
      "|            9.7|           31.9|             0.0|                4.8|             8.5|                 80.0|                 7.0|                28.0|               42.0|                9.0|             1008.9|             1003.6|             5.0|             5.0|           18.3|           30.2|      2008.0|         12.0|        9.0|                      1.0|              (48,[14],[1.0])|                 (16,[15],[1.0])|                 (16,[2],[1.0])|                 (16,[8],[1.0])|                 (2,[0],[1.0])|\n",
      "|           13.1|           30.1|             1.4|                4.8|             8.5|                 28.0|                15.0|                11.0|               58.0|               27.0|             1007.0|             1005.7|             5.0|             5.0|           20.1|           28.2|      2008.0|         12.0|       10.0|                      0.0|              (48,[14],[1.0])|                  (16,[0],[1.0])|                 (16,[6],[1.0])|                 (16,[5],[1.0])|                 (2,[1],[1.0])|\n",
      "|           13.4|           30.4|             0.0|                4.8|             8.5|                 30.0|                17.0|                 6.0|               48.0|               22.0|             1011.8|             1008.7|             5.0|             5.0|           20.4|           28.8|      2008.0|         12.0|       11.0|                      1.0|              (48,[14],[1.0])|                  (16,[4],[1.0])|                 (16,[4],[1.0])|                 (16,[9],[1.0])|                 (2,[0],[1.0])|\n",
      "|           15.9|           21.7|             2.2|                4.8|             8.5|                 31.0|                15.0|                13.0|               89.0|               91.0|             1010.5|             1004.2|             8.0|             8.0|           15.9|           17.0|      2008.0|         12.0|       12.0|                      1.0|              (48,[14],[1.0])|                      (16,[],[])|                (16,[13],[1.0])|                (16,[14],[1.0])|                 (2,[1],[1.0])|\n",
      "|           15.9|           18.6|            15.6|                4.8|             8.5|                 61.0|                28.0|                28.0|               76.0|               93.0|              994.3|              993.0|             8.0|             8.0|           17.4|           15.8|      2008.0|         12.0|       13.0|                      1.0|              (48,[14],[1.0])|                  (16,[0],[1.0])|                (16,[10],[1.0])|                (16,[13],[1.0])|                 (2,[1],[1.0])|\n",
      "|           12.6|           21.0|             3.6|                4.8|             8.5|                 44.0|                24.0|                20.0|               65.0|               43.0|             1001.2|             1001.8|             5.0|             7.0|           15.8|           19.8|      2008.0|         12.0|       14.0|                      0.0|              (48,[14],[1.0])|                  (16,[8],[1.0])|                 (16,[7],[1.0])|                (16,[12],[1.0])|                 (2,[1],[1.0])|\n",
      "|            9.8|           27.7|             0.0|                4.8|             8.5|                 50.0|                13.0|                22.0|               50.0|               28.0|             1013.4|             1010.3|             0.0|             5.0|           17.3|           26.2|      2008.0|         12.0|       16.0|                      0.0|              (48,[14],[1.0])|                 (16,[10],[1.0])|                 (16,[1],[1.0])|                 (16,[7],[1.0])|                     (2,[],[])|\n",
      "|           14.1|           20.9|             0.0|                4.8|             8.5|                 22.0|                11.0|                 9.0|               69.0|               82.0|             1012.2|             1010.4|             8.0|             1.0|           17.2|           18.1|      2008.0|         12.0|       17.0|                      1.0|              (48,[14],[1.0])|                 (16,[12],[1.0])|                (16,[14],[1.0])|                (16,[10],[1.0])|                 (2,[0],[1.0])|\n",
      "|           13.5|           22.9|            16.8|                4.8|             8.5|                 63.0|                 6.0|                20.0|               80.0|               65.0|             1005.8|             1002.2|             8.0|             1.0|           18.0|           21.5|      2008.0|         12.0|       18.0|                      1.0|              (48,[14],[1.0])|                  (16,[0],[1.0])|                 (16,[0],[1.0])|                 (16,[7],[1.0])|                 (2,[1],[1.0])|\n",
      "|           11.2|           22.5|            10.6|                4.8|             8.5|                 43.0|                24.0|                17.0|               47.0|               32.0|             1009.4|             1009.7|             5.0|             2.0|           15.5|           21.0|      2008.0|         12.0|       19.0|                      0.0|              (48,[14],[1.0])|                  (16,[5],[1.0])|                     (16,[],[])|                 (16,[4],[1.0])|                 (2,[1],[1.0])|\n",
      "|            9.8|           25.6|             0.0|                4.8|             8.5|                 26.0|                17.0|                 6.0|               45.0|               26.0|             1019.2|             1017.1|             5.0|             5.0|           15.8|           23.2|      2008.0|         12.0|       20.0|                      0.0|              (48,[14],[1.0])|                  (16,[5],[1.0])|                 (16,[2],[1.0])|                (16,[13],[1.0])|                 (2,[0],[1.0])|\n",
      "|           11.5|           29.3|             0.0|                4.8|             8.5|                 24.0|                 9.0|                 9.0|               56.0|               28.0|             1019.3|             1014.8|             5.0|             5.0|           19.1|           27.3|      2008.0|         12.0|       21.0|                      0.0|              (48,[14],[1.0])|                  (16,[6],[1.0])|                 (16,[2],[1.0])|                 (16,[0],[1.0])|                 (2,[0],[1.0])|\n",
      "+---------------+---------------+----------------+-------------------+----------------+---------------------+--------------------+--------------------+-------------------+-------------------+-------------------+-------------------+----------------+----------------+---------------+---------------+------------+-------------+-----------+-------------------------+-----------------------------+--------------------------------+-------------------------------+-------------------------------+------------------------------+\n",
      "only showing top 20 rows\n",
      "\n"
     ]
    }
   ],
   "source": [
    "indexed_mode_columns = ['Location_indexed_mode','WindGustDir_indexed_mode','WindDir9am_indexed_mode','WindDir3pm_indexed_mode',\n",
    "                   'RainToday_indexed_mode']\n",
    "encoded_df = mode_df\n",
    "for col in indexed_mode_columns:\n",
    "    encoded_columns = OneHotEncoder(inputCol=col,outputCol=col+'_encoded')\n",
    "    encoded_df = encoded_columns.fit(encoded_df).transform(encoded_df)\n",
    "\n",
    "encoded_df = encoded_df.drop(*indexed_mode_columns)\n",
    "encoded_df.show()\n"
   ]
  },
  {
   "cell_type": "markdown",
   "id": "f21a912f-f546-4a04-b7f0-250fdb6b6b44",
   "metadata": {},
   "source": [
    "<span style=\"font-size: 36px;color: teal; font-family: TimesNewRoman;\">Question 13:\tThe RainTomorrow is the label, and all other fields are features.<span>"
   ]
  },
  {
   "cell_type": "code",
   "execution_count": 135,
   "id": "a74c346c-673c-48c8-9ee5-13dab1a3b766",
   "metadata": {},
   "outputs": [
    {
     "name": "stdout",
     "output_type": "stream",
     "text": [
      "+-------------------------+--------------------+\n",
      "|RainTomorrow_indexed_mode|            features|\n",
      "+-------------------------+--------------------+\n",
      "|                      0.0|(117,[0,1,2,3,4,5...|\n",
      "|                      0.0|(117,[0,1,3,4,5,6...|\n",
      "|                      0.0|(117,[0,1,3,4,5,6...|\n",
      "|                      0.0|(117,[0,1,3,4,5,6...|\n",
      "|                      0.0|(117,[0,1,2,3,4,5...|\n",
      "|                      0.0|(117,[0,1,2,3,4,5...|\n",
      "|                      0.0|(117,[0,1,3,4,5,6...|\n",
      "|                      0.0|(117,[0,1,3,4,5,6...|\n",
      "|                      1.0|(117,[0,1,3,4,5,6...|\n",
      "|                      0.0|(117,[0,1,2,3,4,5...|\n",
      "|                      1.0|(117,[0,1,3,4,5,6...|\n",
      "|                      1.0|(117,[0,1,2,3,4,5...|\n",
      "|                      1.0|(117,[0,1,2,3,4,5...|\n",
      "|                      0.0|(117,[0,1,2,3,4,5...|\n",
      "|                      0.0|(117,[0,1,3,4,5,6...|\n",
      "|                      1.0|(117,[0,1,3,4,5,6...|\n",
      "|                      1.0|(117,[0,1,2,3,4,5...|\n",
      "|                      0.0|(117,[0,1,2,3,4,5...|\n",
      "|                      0.0|(117,[0,1,3,4,5,6...|\n",
      "|                      0.0|(117,[0,1,3,4,5,6...|\n",
      "+-------------------------+--------------------+\n",
      "only showing top 20 rows\n",
      "\n"
     ]
    }
   ],
   "source": [
    "from pyspark.ml.feature import VectorAssembler\n",
    "# 'encoded_df' is the DataFrame and to assemble all columns except 'RainToday_indexed_mode_encoded' and 'RainTomorrow_indexed_mode_encoded'\n",
    "feature_columns = [col for col in encoded_df.columns if col not in ['RainTomorrow_indexed_mode']]\n",
    "\n",
    "assembler = VectorAssembler(inputCols=feature_columns, outputCol=\"features\")\n",
    "assembled_df = assembler.transform(encoded_df)\n",
    "\n",
    "assembled_df = assembled_df.drop(*feature_columns)\n",
    "assembled_df.show()\n"
   ]
  },
  {
   "cell_type": "markdown",
   "id": "c0b85512-94fa-4335-bb7b-8b39023d07f7",
   "metadata": {},
   "source": [
    "<span style=\"font-size: 36px;color: teal; font-family: TimesNewRoman;\">Question 15:\tNormalize each numerical column (bring it to a value between 0 and 1)<span>"
   ]
  },
  {
   "cell_type": "code",
   "execution_count": 156,
   "id": "852ba5cb-ad5e-40fd-bffd-940e677df255",
   "metadata": {},
   "outputs": [
    {
     "name": "stderr",
     "output_type": "stream",
     "text": [
      "                                                                                \r"
     ]
    },
    {
     "name": "stdout",
     "output_type": "stream",
     "text": [
      "+-------------------------+--------------------+\n",
      "|RainTomorrow_indexed_mode|     features_scaled|\n",
      "+-------------------------+--------------------+\n",
      "|                      0.0|[0.19008413095339...|\n",
      "|                      0.0|[-0.7490394078297...|\n",
      "|                      0.0|[0.11182383605479...|\n",
      "|                      0.0|[-0.4673023461948...|\n",
      "|                      0.0|[0.83181854912190...|\n",
      "|                      0.0|[0.37790883871003...|\n",
      "|                      0.0|[0.33095266177087...|\n",
      "|                      0.0|[-0.7020832308906...|\n",
      "|                      1.0|[-0.3890420512962...|\n",
      "|                      0.0|[0.14312795401423...|\n",
      "|                      1.0|[0.19008413095339...|\n",
      "|                      1.0|[0.58138560544639...|\n",
      "|                      1.0|[0.58138560544639...|\n",
      "|                      0.0|[0.06486765911563...|\n",
      "|                      0.0|[-0.3733899923165...|\n",
      "|                      1.0|[0.29964854381143...|\n",
      "|                      1.0|[0.20573618993311...|\n",
      "|                      0.0|[-0.1542611666004...|\n",
      "|                      0.0|[-0.3733899923165...|\n",
      "|                      0.0|[-0.1073049896612...|\n",
      "+-------------------------+--------------------+\n",
      "only showing top 20 rows\n",
      "\n"
     ]
    }
   ],
   "source": [
    "# Here we gonna normalize the numerical data\n",
    "from pyspark.ml.feature import StandardScaler\n",
    "scaled_df = assembled_df\n",
    "numerical_features = ['features']\n",
    "for col in numerical_features:\n",
    "    scaler = StandardScaler(inputCol=col, outputCol=col + \"_scaled\", withStd=True, withMean=True)\n",
    "    scaled_df = scaler.fit(scaled_df).transform(scaled_df)\n",
    "scaled_df = scaled_df.drop(*numerical_features)\n",
    "scaled_df.show()"
   ]
  },
  {
   "cell_type": "markdown",
   "id": "6d522a15-a839-4939-a3e4-f70b3091ece4",
   "metadata": {},
   "source": [
    "<span style=\"font-size: 36px;color: teal; font-family: TimesNewRoman;\">Question 16:\tTrain your Logistic Regression model on the training dataset (70% 30% split).<span>"
   ]
  },
  {
   "cell_type": "code",
   "execution_count": 157,
   "id": "18a3670d-965f-490f-b47a-f19c598a3c2d",
   "metadata": {},
   "outputs": [
    {
     "name": "stderr",
     "output_type": "stream",
     "text": [
      "                                                                                \r"
     ]
    }
   ],
   "source": [
    "from pyspark.ml.classification import LogisticRegression\n",
    "train_df, test_df = scaled_df.randomSplit([0.7,0.3], seed=100)\n",
    "lr = LogisticRegression(featuresCol='features_scaled', labelCol='RainTomorrow_indexed_mode')\n",
    "classifier = lr.fit(train_df)"
   ]
  },
  {
   "cell_type": "markdown",
   "id": "d06c0d9c-557d-400d-824a-8c75df9a1b8a",
   "metadata": {},
   "source": [
    "<span style=\"font-size: 36px;color: teal; font-family: TimesNewRoman;\">Question 17:\tPredict the RainTomorrow for the test set.<span>"
   ]
  },
  {
   "cell_type": "code",
   "execution_count": 167,
   "id": "876ea371-2e11-4687-971e-7ee140338be2",
   "metadata": {},
   "outputs": [],
   "source": [
    "# Evaluate the model on the test data\n",
    "predictions = classifier.transform(test_df)"
   ]
  },
  {
   "cell_type": "markdown",
   "id": "4e764b84-8baa-448e-9429-0d1545dda6e6",
   "metadata": {},
   "source": [
    "<span style=\"font-size: 36px;color: teal; font-family: TimesNewRoman;\">Question 18:\tDescribe the performance of your model using the confusion matrix and print TP, TN, FP, and FN. In addition, provide the accuracy and F1 score of your model.<span>"
   ]
  },
  {
   "cell_type": "code",
   "execution_count": 173,
   "id": "82ba3083-5028-4307-8f85-b53f5c501822",
   "metadata": {},
   "outputs": [
    {
     "name": "stderr",
     "output_type": "stream",
     "text": [
      "                                                                                \r"
     ]
    },
    {
     "name": "stdout",
     "output_type": "stream",
     "text": [
      "+-------------------------+----------+-----+\n",
      "|RainTomorrow_indexed_mode|prediction|count|\n",
      "+-------------------------+----------+-----+\n",
      "|                      1.0|       1.0| 4934|\n",
      "|                      0.0|       1.0| 1720|\n",
      "|                      1.0|       0.0| 4717|\n",
      "|                      0.0|       0.0|31443|\n",
      "+-------------------------+----------+-----+\n",
      "\n"
     ]
    },
    {
     "name": "stderr",
     "output_type": "stream",
     "text": [
      "                                                                                \r"
     ]
    },
    {
     "name": "stdout",
     "output_type": "stream",
     "text": [
      "Precision: 0.7415088668470093\n",
      "Recall: 0.5112423583048389\n",
      "Accuracy: 0.8496519829962161\n",
      "F1 Score: 0.8390843033229611\n"
     ]
    },
    {
     "name": "stderr",
     "output_type": "stream",
     "text": [
      "                                                                                \r"
     ]
    }
   ],
   "source": [
    "from pyspark.ml.evaluation import MulticlassClassificationEvaluator\n",
    "\n",
    "# Compute confusion matrix\n",
    "conf_matrix = predictions.groupBy('RainTomorrow_indexed_mode', 'prediction').count()\n",
    "conf_matrix.show()\n",
    "\n",
    "# Extract TP, TN, FP, FN\n",
    "TP = conf_matrix.filter((conf_matrix.RainTomorrow_indexed_mode == 1) & (conf_matrix.prediction == 1)).select('count').collect()[0]['count']\n",
    "TN = conf_matrix.filter((conf_matrix.RainTomorrow_indexed_mode == 0) & (conf_matrix.prediction == 0)).select('count').collect()[0]['count']\n",
    "FP = conf_matrix.filter((conf_matrix.RainTomorrow_indexed_mode == 0) & (conf_matrix.prediction == 1)).select('count').collect()[0]['count']\n",
    "FN = conf_matrix.filter((conf_matrix.RainTomorrow_indexed_mode == 1) & (conf_matrix.prediction == 0)).select('count').collect()[0]['count']\n",
    "\n",
    "# Calculate precision\n",
    "precision = TP / (TP + FP)\n",
    "print(\"Precision:\", precision)\n",
    "\n",
    "# Calculate recall\n",
    "recall = TP / (TP + FN)\n",
    "print(\"Recall:\", recall)\n",
    "\n",
    "# Calculate accuracy\n",
    "accuracy = (TP + TN) / (TP + TN + FP + FN)\n",
    "print(\"Accuracy:\", accuracy)\n",
    "\n",
    "# Calculate F1 score using MulticlassClassificationEvaluator\n",
    "evaluator = MulticlassClassificationEvaluator(labelCol='RainTomorrow_indexed_mode', metricName='f1')\n",
    "f1_score = evaluator.evaluate(predictions)\n",
    "print(\"F1 Score:\", f1_score)\n"
   ]
  },
  {
   "cell_type": "code",
   "execution_count": null,
   "id": "3390cb90-2257-4149-aae8-0eca00b460c9",
   "metadata": {},
   "outputs": [],
   "source": []
  }
 ],
 "metadata": {
  "kernelspec": {
   "display_name": "Python 3 (ipykernel)",
   "language": "python",
   "name": "python3"
  },
  "language_info": {
   "codemirror_mode": {
    "name": "ipython",
    "version": 3
   },
   "file_extension": ".py",
   "mimetype": "text/x-python",
   "name": "python",
   "nbconvert_exporter": "python",
   "pygments_lexer": "ipython3",
   "version": "3.8.19"
  }
 },
 "nbformat": 4,
 "nbformat_minor": 5
}
